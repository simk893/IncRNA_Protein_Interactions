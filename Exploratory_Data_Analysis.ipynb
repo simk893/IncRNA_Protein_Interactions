{
 "cells": [
  {
   "cell_type": "code",
   "execution_count": 1,
   "metadata": {},
   "outputs": [
    {
     "data": {
      "text/html": [
       "<div>\n",
       "<style scoped>\n",
       "    .dataframe tbody tr th:only-of-type {\n",
       "        vertical-align: middle;\n",
       "    }\n",
       "\n",
       "    .dataframe tbody tr th {\n",
       "        vertical-align: top;\n",
       "    }\n",
       "\n",
       "    .dataframe thead th {\n",
       "        text-align: right;\n",
       "    }\n",
       "</style>\n",
       "<table border=\"1\" class=\"dataframe\">\n",
       "  <thead>\n",
       "    <tr style=\"text-align: right;\">\n",
       "      <th></th>\n",
       "      <th>rna_index</th>\n",
       "      <th>rna_start</th>\n",
       "      <th>rna_end</th>\n",
       "      <th>dna_index</th>\n",
       "      <th>dna_start</th>\n",
       "      <th>dna_end</th>\n",
       "      <th>HNRNPC</th>\n",
       "      <th>HNRNPK</th>\n",
       "      <th>HNRNPM</th>\n",
       "      <th>MATR3</th>\n",
       "      <th>PTBP1</th>\n",
       "      <th>SRSF1</th>\n",
       "      <th>TIA1</th>\n",
       "    </tr>\n",
       "  </thead>\n",
       "  <tbody>\n",
       "    <tr>\n",
       "      <th>0</th>\n",
       "      <td>50</td>\n",
       "      <td>0</td>\n",
       "      <td>100</td>\n",
       "      <td>73852673</td>\n",
       "      <td>73852623</td>\n",
       "      <td>73852723</td>\n",
       "      <td>0.694644</td>\n",
       "      <td>0.488768</td>\n",
       "      <td>0.301806</td>\n",
       "      <td>0.913165</td>\n",
       "      <td>0.393542</td>\n",
       "      <td>0.366644</td>\n",
       "      <td>0.848362</td>\n",
       "    </tr>\n",
       "    <tr>\n",
       "      <th>1</th>\n",
       "      <td>60</td>\n",
       "      <td>10</td>\n",
       "      <td>110</td>\n",
       "      <td>73852663</td>\n",
       "      <td>73852613</td>\n",
       "      <td>73852713</td>\n",
       "      <td>0.508488</td>\n",
       "      <td>0.226550</td>\n",
       "      <td>0.346506</td>\n",
       "      <td>0.859849</td>\n",
       "      <td>0.331914</td>\n",
       "      <td>0.433435</td>\n",
       "      <td>0.663155</td>\n",
       "    </tr>\n",
       "    <tr>\n",
       "      <th>2</th>\n",
       "      <td>70</td>\n",
       "      <td>20</td>\n",
       "      <td>120</td>\n",
       "      <td>73852653</td>\n",
       "      <td>73852603</td>\n",
       "      <td>73852703</td>\n",
       "      <td>0.069667</td>\n",
       "      <td>0.251957</td>\n",
       "      <td>0.108793</td>\n",
       "      <td>0.624135</td>\n",
       "      <td>0.230707</td>\n",
       "      <td>0.219274</td>\n",
       "      <td>0.116439</td>\n",
       "    </tr>\n",
       "    <tr>\n",
       "      <th>3</th>\n",
       "      <td>80</td>\n",
       "      <td>30</td>\n",
       "      <td>130</td>\n",
       "      <td>73852643</td>\n",
       "      <td>73852593</td>\n",
       "      <td>73852693</td>\n",
       "      <td>0.230525</td>\n",
       "      <td>0.683498</td>\n",
       "      <td>0.082749</td>\n",
       "      <td>0.750837</td>\n",
       "      <td>0.601004</td>\n",
       "      <td>0.257597</td>\n",
       "      <td>0.130026</td>\n",
       "    </tr>\n",
       "    <tr>\n",
       "      <th>4</th>\n",
       "      <td>90</td>\n",
       "      <td>40</td>\n",
       "      <td>140</td>\n",
       "      <td>73852633</td>\n",
       "      <td>73852583</td>\n",
       "      <td>73852683</td>\n",
       "      <td>0.374508</td>\n",
       "      <td>0.943981</td>\n",
       "      <td>0.108518</td>\n",
       "      <td>0.918591</td>\n",
       "      <td>0.951651</td>\n",
       "      <td>0.412851</td>\n",
       "      <td>0.491435</td>\n",
       "    </tr>\n",
       "  </tbody>\n",
       "</table>\n",
       "</div>"
      ],
      "text/plain": [
       "   rna_index  rna_start  rna_end  dna_index  dna_start   dna_end    HNRNPC  \\\n",
       "0         50          0      100   73852673   73852623  73852723  0.694644   \n",
       "1         60         10      110   73852663   73852613  73852713  0.508488   \n",
       "2         70         20      120   73852653   73852603  73852703  0.069667   \n",
       "3         80         30      130   73852643   73852593  73852693  0.230525   \n",
       "4         90         40      140   73852633   73852583  73852683  0.374508   \n",
       "\n",
       "     HNRNPK    HNRNPM     MATR3     PTBP1     SRSF1      TIA1  \n",
       "0  0.488768  0.301806  0.913165  0.393542  0.366644  0.848362  \n",
       "1  0.226550  0.346506  0.859849  0.331914  0.433435  0.663155  \n",
       "2  0.251957  0.108793  0.624135  0.230707  0.219274  0.116439  \n",
       "3  0.683498  0.082749  0.750837  0.601004  0.257597  0.130026  \n",
       "4  0.943981  0.108518  0.918591  0.951651  0.412851  0.491435  "
      ]
     },
     "execution_count": 1,
     "metadata": {},
     "output_type": "execute_result"
    }
   ],
   "source": [
    "import os\n",
    "import warnings\n",
    "import pandas as pd\n",
    "import numpy as np\n",
    "import seaborn as sns\n",
    "import matplotlib.pyplot as plt\n",
    "from scipy.stats import skew, kurtosis\n",
    "\n",
    "file_path = r\"C:\\Users\\simeo\\OneDrive\\Documents\\UNC\\Spring 2025\\STOR 765\\Inc_RNA_Protein_Predictions_Sample_Data\\ENST00000429829.6_predictions.tsv\"\n",
    "df = pd.read_csv(file_path, sep='\\t')\n",
    "df.head()"
   ]
  },
  {
   "cell_type": "code",
   "execution_count": 2,
   "metadata": {},
   "outputs": [
    {
     "data": {
      "text/html": [
       "<div>\n",
       "<style scoped>\n",
       "    .dataframe tbody tr th:only-of-type {\n",
       "        vertical-align: middle;\n",
       "    }\n",
       "\n",
       "    .dataframe tbody tr th {\n",
       "        vertical-align: top;\n",
       "    }\n",
       "\n",
       "    .dataframe thead th {\n",
       "        text-align: right;\n",
       "    }\n",
       "</style>\n",
       "<table border=\"1\" class=\"dataframe\">\n",
       "  <thead>\n",
       "    <tr style=\"text-align: right;\">\n",
       "      <th></th>\n",
       "      <th>Protein</th>\n",
       "      <th>Percentile_(0.00-0.05)_Proportion</th>\n",
       "      <th>Percentile_(0.00-0.05)_Max_Min</th>\n",
       "      <th>Percentile_(0.00-0.05)_Mean</th>\n",
       "      <th>Percentile_(0.00-0.05)_Variance</th>\n",
       "      <th>Percentile_(0.00-0.05)_Skew</th>\n",
       "      <th>Percentile_(0.00-0.05)_Kurtosis</th>\n",
       "      <th>Percentile_(0.05-0.10)_Proportion</th>\n",
       "      <th>Percentile_(0.05-0.10)_Max_Min</th>\n",
       "      <th>Percentile_(0.05-0.10)_Mean</th>\n",
       "      <th>...</th>\n",
       "      <th>Percentile_(0.90-0.95)_Mean</th>\n",
       "      <th>Percentile_(0.90-0.95)_Variance</th>\n",
       "      <th>Percentile_(0.90-0.95)_Skew</th>\n",
       "      <th>Percentile_(0.90-0.95)_Kurtosis</th>\n",
       "      <th>Percentile_(0.95-1.00)_Proportion</th>\n",
       "      <th>Percentile_(0.95-1.00)_Max_Min</th>\n",
       "      <th>Percentile_(0.95-1.00)_Mean</th>\n",
       "      <th>Percentile_(0.95-1.00)_Variance</th>\n",
       "      <th>Percentile_(0.95-1.00)_Skew</th>\n",
       "      <th>Percentile_(0.95-1.00)_Kurtosis</th>\n",
       "    </tr>\n",
       "  </thead>\n",
       "  <tbody>\n",
       "    <tr>\n",
       "      <th>0</th>\n",
       "      <td>HNRNPC</td>\n",
       "      <td>0.263185</td>\n",
       "      <td>0.047526</td>\n",
       "      <td>0.026481</td>\n",
       "      <td>0.000154</td>\n",
       "      <td>0.071730</td>\n",
       "      <td>-0.973721</td>\n",
       "      <td>0.140992</td>\n",
       "      <td>0.049580</td>\n",
       "      <td>0.022864</td>\n",
       "      <td>...</td>\n",
       "      <td>0.025920</td>\n",
       "      <td>0.000189</td>\n",
       "      <td>-0.267206</td>\n",
       "      <td>-1.142665</td>\n",
       "      <td>0.076240</td>\n",
       "      <td>0.046452</td>\n",
       "      <td>0.020732</td>\n",
       "      <td>0.000185</td>\n",
       "      <td>0.142634</td>\n",
       "      <td>-1.343603</td>\n",
       "    </tr>\n",
       "    <tr>\n",
       "      <th>1</th>\n",
       "      <td>HNRNPK</td>\n",
       "      <td>0.320627</td>\n",
       "      <td>0.049665</td>\n",
       "      <td>0.015337</td>\n",
       "      <td>0.000183</td>\n",
       "      <td>0.846699</td>\n",
       "      <td>-0.398091</td>\n",
       "      <td>0.096084</td>\n",
       "      <td>0.049718</td>\n",
       "      <td>0.022185</td>\n",
       "      <td>...</td>\n",
       "      <td>0.026942</td>\n",
       "      <td>0.000184</td>\n",
       "      <td>-0.046733</td>\n",
       "      <td>-1.171179</td>\n",
       "      <td>0.076240</td>\n",
       "      <td>0.047051</td>\n",
       "      <td>0.024987</td>\n",
       "      <td>0.000190</td>\n",
       "      <td>-0.205095</td>\n",
       "      <td>-1.256121</td>\n",
       "    </tr>\n",
       "    <tr>\n",
       "      <th>2</th>\n",
       "      <td>HNRNPM</td>\n",
       "      <td>0.350914</td>\n",
       "      <td>0.049788</td>\n",
       "      <td>0.015387</td>\n",
       "      <td>0.000196</td>\n",
       "      <td>0.820371</td>\n",
       "      <td>-0.465589</td>\n",
       "      <td>0.097650</td>\n",
       "      <td>0.049551</td>\n",
       "      <td>0.022147</td>\n",
       "      <td>...</td>\n",
       "      <td>0.031312</td>\n",
       "      <td>0.000164</td>\n",
       "      <td>-0.509934</td>\n",
       "      <td>-0.991651</td>\n",
       "      <td>0.071018</td>\n",
       "      <td>0.048842</td>\n",
       "      <td>0.025458</td>\n",
       "      <td>0.000201</td>\n",
       "      <td>-0.092142</td>\n",
       "      <td>-1.192633</td>\n",
       "    </tr>\n",
       "    <tr>\n",
       "      <th>3</th>\n",
       "      <td>MATR3</td>\n",
       "      <td>0.079373</td>\n",
       "      <td>0.049606</td>\n",
       "      <td>0.028374</td>\n",
       "      <td>0.000170</td>\n",
       "      <td>-0.215028</td>\n",
       "      <td>-0.919402</td>\n",
       "      <td>0.061619</td>\n",
       "      <td>0.049278</td>\n",
       "      <td>0.022187</td>\n",
       "      <td>...</td>\n",
       "      <td>0.024935</td>\n",
       "      <td>0.000216</td>\n",
       "      <td>0.203788</td>\n",
       "      <td>-1.238457</td>\n",
       "      <td>0.074674</td>\n",
       "      <td>0.045915</td>\n",
       "      <td>0.022066</td>\n",
       "      <td>0.000159</td>\n",
       "      <td>-0.010917</td>\n",
       "      <td>-0.968210</td>\n",
       "    </tr>\n",
       "    <tr>\n",
       "      <th>4</th>\n",
       "      <td>PTBP1</td>\n",
       "      <td>0.183290</td>\n",
       "      <td>0.049621</td>\n",
       "      <td>0.021213</td>\n",
       "      <td>0.000207</td>\n",
       "      <td>0.409171</td>\n",
       "      <td>-1.072641</td>\n",
       "      <td>0.098695</td>\n",
       "      <td>0.049861</td>\n",
       "      <td>0.022614</td>\n",
       "      <td>...</td>\n",
       "      <td>0.025035</td>\n",
       "      <td>0.000208</td>\n",
       "      <td>-0.085604</td>\n",
       "      <td>-0.990113</td>\n",
       "      <td>0.048564</td>\n",
       "      <td>0.048558</td>\n",
       "      <td>0.026150</td>\n",
       "      <td>0.000187</td>\n",
       "      <td>-0.127687</td>\n",
       "      <td>-1.206626</td>\n",
       "    </tr>\n",
       "    <tr>\n",
       "      <th>5</th>\n",
       "      <td>SRSF1</td>\n",
       "      <td>0.152480</td>\n",
       "      <td>0.048919</td>\n",
       "      <td>0.022927</td>\n",
       "      <td>0.000194</td>\n",
       "      <td>0.281039</td>\n",
       "      <td>-1.089064</td>\n",
       "      <td>0.107050</td>\n",
       "      <td>0.049510</td>\n",
       "      <td>0.022558</td>\n",
       "      <td>...</td>\n",
       "      <td>0.027437</td>\n",
       "      <td>0.000239</td>\n",
       "      <td>-0.254169</td>\n",
       "      <td>-1.133193</td>\n",
       "      <td>0.019843</td>\n",
       "      <td>0.037339</td>\n",
       "      <td>0.016795</td>\n",
       "      <td>0.000131</td>\n",
       "      <td>0.051548</td>\n",
       "      <td>-1.167818</td>\n",
       "    </tr>\n",
       "    <tr>\n",
       "      <th>6</th>\n",
       "      <td>TIA1</td>\n",
       "      <td>0.147258</td>\n",
       "      <td>0.049732</td>\n",
       "      <td>0.027786</td>\n",
       "      <td>0.000164</td>\n",
       "      <td>-0.038431</td>\n",
       "      <td>-1.097162</td>\n",
       "      <td>0.098172</td>\n",
       "      <td>0.049286</td>\n",
       "      <td>0.021362</td>\n",
       "      <td>...</td>\n",
       "      <td>0.028890</td>\n",
       "      <td>0.000189</td>\n",
       "      <td>-0.365204</td>\n",
       "      <td>-1.059640</td>\n",
       "      <td>0.048564</td>\n",
       "      <td>0.045429</td>\n",
       "      <td>0.021161</td>\n",
       "      <td>0.000164</td>\n",
       "      <td>0.351579</td>\n",
       "      <td>-1.097854</td>\n",
       "    </tr>\n",
       "  </tbody>\n",
       "</table>\n",
       "<p>7 rows × 121 columns</p>\n",
       "</div>"
      ],
      "text/plain": [
       "  Protein  Percentile_(0.00-0.05)_Proportion  Percentile_(0.00-0.05)_Max_Min  \\\n",
       "0  HNRNPC                           0.263185                        0.047526   \n",
       "1  HNRNPK                           0.320627                        0.049665   \n",
       "2  HNRNPM                           0.350914                        0.049788   \n",
       "3   MATR3                           0.079373                        0.049606   \n",
       "4   PTBP1                           0.183290                        0.049621   \n",
       "5   SRSF1                           0.152480                        0.048919   \n",
       "6    TIA1                           0.147258                        0.049732   \n",
       "\n",
       "   Percentile_(0.00-0.05)_Mean  Percentile_(0.00-0.05)_Variance  \\\n",
       "0                     0.026481                         0.000154   \n",
       "1                     0.015337                         0.000183   \n",
       "2                     0.015387                         0.000196   \n",
       "3                     0.028374                         0.000170   \n",
       "4                     0.021213                         0.000207   \n",
       "5                     0.022927                         0.000194   \n",
       "6                     0.027786                         0.000164   \n",
       "\n",
       "   Percentile_(0.00-0.05)_Skew  Percentile_(0.00-0.05)_Kurtosis  \\\n",
       "0                     0.071730                        -0.973721   \n",
       "1                     0.846699                        -0.398091   \n",
       "2                     0.820371                        -0.465589   \n",
       "3                    -0.215028                        -0.919402   \n",
       "4                     0.409171                        -1.072641   \n",
       "5                     0.281039                        -1.089064   \n",
       "6                    -0.038431                        -1.097162   \n",
       "\n",
       "   Percentile_(0.05-0.10)_Proportion  Percentile_(0.05-0.10)_Max_Min  \\\n",
       "0                           0.140992                        0.049580   \n",
       "1                           0.096084                        0.049718   \n",
       "2                           0.097650                        0.049551   \n",
       "3                           0.061619                        0.049278   \n",
       "4                           0.098695                        0.049861   \n",
       "5                           0.107050                        0.049510   \n",
       "6                           0.098172                        0.049286   \n",
       "\n",
       "   Percentile_(0.05-0.10)_Mean  ...  Percentile_(0.90-0.95)_Mean  \\\n",
       "0                     0.022864  ...                     0.025920   \n",
       "1                     0.022185  ...                     0.026942   \n",
       "2                     0.022147  ...                     0.031312   \n",
       "3                     0.022187  ...                     0.024935   \n",
       "4                     0.022614  ...                     0.025035   \n",
       "5                     0.022558  ...                     0.027437   \n",
       "6                     0.021362  ...                     0.028890   \n",
       "\n",
       "   Percentile_(0.90-0.95)_Variance  Percentile_(0.90-0.95)_Skew  \\\n",
       "0                         0.000189                    -0.267206   \n",
       "1                         0.000184                    -0.046733   \n",
       "2                         0.000164                    -0.509934   \n",
       "3                         0.000216                     0.203788   \n",
       "4                         0.000208                    -0.085604   \n",
       "5                         0.000239                    -0.254169   \n",
       "6                         0.000189                    -0.365204   \n",
       "\n",
       "   Percentile_(0.90-0.95)_Kurtosis  Percentile_(0.95-1.00)_Proportion  \\\n",
       "0                        -1.142665                           0.076240   \n",
       "1                        -1.171179                           0.076240   \n",
       "2                        -0.991651                           0.071018   \n",
       "3                        -1.238457                           0.074674   \n",
       "4                        -0.990113                           0.048564   \n",
       "5                        -1.133193                           0.019843   \n",
       "6                        -1.059640                           0.048564   \n",
       "\n",
       "   Percentile_(0.95-1.00)_Max_Min  Percentile_(0.95-1.00)_Mean  \\\n",
       "0                        0.046452                     0.020732   \n",
       "1                        0.047051                     0.024987   \n",
       "2                        0.048842                     0.025458   \n",
       "3                        0.045915                     0.022066   \n",
       "4                        0.048558                     0.026150   \n",
       "5                        0.037339                     0.016795   \n",
       "6                        0.045429                     0.021161   \n",
       "\n",
       "   Percentile_(0.95-1.00)_Variance  Percentile_(0.95-1.00)_Skew  \\\n",
       "0                         0.000185                     0.142634   \n",
       "1                         0.000190                    -0.205095   \n",
       "2                         0.000201                    -0.092142   \n",
       "3                         0.000159                    -0.010917   \n",
       "4                         0.000187                    -0.127687   \n",
       "5                         0.000131                     0.051548   \n",
       "6                         0.000164                     0.351579   \n",
       "\n",
       "   Percentile_(0.95-1.00)_Kurtosis  \n",
       "0                        -1.343603  \n",
       "1                        -1.256121  \n",
       "2                        -1.192633  \n",
       "3                        -0.968210  \n",
       "4                        -1.206626  \n",
       "5                        -1.167818  \n",
       "6                        -1.097854  \n",
       "\n",
       "[7 rows x 121 columns]"
      ]
     },
     "execution_count": 2,
     "metadata": {},
     "output_type": "execute_result"
    }
   ],
   "source": [
    "# Variables for percentiles, max-min, mean, variance, skew, and kurtosis\n",
    "proteins = ['HNRNPC', 'HNRNPK', 'HNRNPM', 'MATR3', 'PTBP1', 'SRSF1', 'TIA1']\n",
    "proportions, max_min, means, variances, skews, kurtoses = {}, {}, {}, {}, {}, {}\n",
    "\n",
    "# Summary Statistic Feature Extraction\n",
    "N = 20\n",
    "for protein in proteins:\n",
    "    df[f'{protein}_percentile'] = pd.cut(df[protein], bins=[i/N for i in range(N+1)], labels=False, include_lowest=True)\n",
    "    for i in range(N):\n",
    "        percentile_data = df[df[f'{protein}_percentile'] == i][protein] - (i / N)\n",
    "        proportions[f'{protein}_percentile{i}'] = percentile_data.shape[0] / df.shape[0]\n",
    "        max_min[f'{protein}_percentile{i}_max_min'] = percentile_data.max() - percentile_data.min()\n",
    "        means[f'{protein}_percentile{i}_mean'] = percentile_data.mean()\n",
    "        variances[f'{protein}_percentile{i}_variance'] = percentile_data.var()\n",
    "        skews[f'{protein}_percentile{i}_skew'] = skew(percentile_data)\n",
    "        kurtoses[f'{protein}_percentile{i}_kurtosis'] = kurtosis(percentile_data)\n",
    "\n",
    "# Summary Statistics Dataframe\n",
    "data = {'Protein': proteins}\n",
    "for i in range(N):\n",
    "    lower_bound = i / N\n",
    "    upper_bound = (i + 1) / N\n",
    "    data[f'Percentile_({lower_bound:.2f}-{upper_bound:.2f})_Proportion'] = [proportions[f'{protein}_percentile{i}'] for protein in proteins]\n",
    "    data[f'Percentile_({lower_bound:.2f}-{upper_bound:.2f})_Max_Min'] = [max_min[f'{protein}_percentile{i}_max_min'] for protein in proteins]\n",
    "    data[f'Percentile_({lower_bound:.2f}-{upper_bound:.2f})_Mean'] = [means[f'{protein}_percentile{i}_mean'] for protein in proteins]\n",
    "    data[f'Percentile_({lower_bound:.2f}-{upper_bound:.2f})_Variance'] = [variances[f'{protein}_percentile{i}_variance'] for protein in proteins]\n",
    "    data[f'Percentile_({lower_bound:.2f}-{upper_bound:.2f})_Skew'] = [skews[f'{protein}_percentile{i}_skew'] for protein in proteins]\n",
    "    data[f'Percentile_({lower_bound:.2f}-{upper_bound:.2f})_Kurtosis'] = [kurtoses[f'{protein}_percentile{i}_kurtosis'] for protein in proteins]\n",
    "result_df = pd.DataFrame(data).fillna(0)\n",
    "result_df"
   ]
  },
  {
   "cell_type": "code",
   "execution_count": 3,
   "metadata": {},
   "outputs": [
    {
     "data": {
      "text/html": [
       "<div>\n",
       "<style scoped>\n",
       "    .dataframe tbody tr th:only-of-type {\n",
       "        vertical-align: middle;\n",
       "    }\n",
       "\n",
       "    .dataframe tbody tr th {\n",
       "        vertical-align: top;\n",
       "    }\n",
       "\n",
       "    .dataframe thead th {\n",
       "        text-align: right;\n",
       "    }\n",
       "</style>\n",
       "<table border=\"1\" class=\"dataframe\">\n",
       "  <thead>\n",
       "    <tr style=\"text-align: right;\">\n",
       "      <th></th>\n",
       "      <th>HNRNPC_Percentile_(0.00-0.05)_Proportion</th>\n",
       "      <th>HNRNPC_Percentile_(0.00-0.05)_Max_Min</th>\n",
       "      <th>HNRNPC_Percentile_(0.00-0.05)_Mean</th>\n",
       "      <th>HNRNPC_Percentile_(0.00-0.05)_Variance</th>\n",
       "      <th>HNRNPC_Percentile_(0.00-0.05)_Skew</th>\n",
       "      <th>HNRNPC_Percentile_(0.00-0.05)_Kurtosis</th>\n",
       "      <th>HNRNPC_Percentile_(0.05-0.10)_Proportion</th>\n",
       "      <th>HNRNPC_Percentile_(0.05-0.10)_Max_Min</th>\n",
       "      <th>HNRNPC_Percentile_(0.05-0.10)_Mean</th>\n",
       "      <th>HNRNPC_Percentile_(0.05-0.10)_Variance</th>\n",
       "      <th>...</th>\n",
       "      <th>TIA1_Percentile_(0.90-0.95)_Mean</th>\n",
       "      <th>TIA1_Percentile_(0.90-0.95)_Variance</th>\n",
       "      <th>TIA1_Percentile_(0.90-0.95)_Skew</th>\n",
       "      <th>TIA1_Percentile_(0.90-0.95)_Kurtosis</th>\n",
       "      <th>TIA1_Percentile_(0.95-1.00)_Proportion</th>\n",
       "      <th>TIA1_Percentile_(0.95-1.00)_Max_Min</th>\n",
       "      <th>TIA1_Percentile_(0.95-1.00)_Mean</th>\n",
       "      <th>TIA1_Percentile_(0.95-1.00)_Variance</th>\n",
       "      <th>TIA1_Percentile_(0.95-1.00)_Skew</th>\n",
       "      <th>TIA1_Percentile_(0.95-1.00)_Kurtosis</th>\n",
       "    </tr>\n",
       "  </thead>\n",
       "  <tbody>\n",
       "    <tr>\n",
       "      <th>0</th>\n",
       "      <td>0.263185</td>\n",
       "      <td>0.047526</td>\n",
       "      <td>0.026481</td>\n",
       "      <td>0.000154</td>\n",
       "      <td>0.07173</td>\n",
       "      <td>-0.973721</td>\n",
       "      <td>0.140992</td>\n",
       "      <td>0.04958</td>\n",
       "      <td>0.022864</td>\n",
       "      <td>0.000193</td>\n",
       "      <td>...</td>\n",
       "      <td>0.02889</td>\n",
       "      <td>0.000189</td>\n",
       "      <td>-0.365204</td>\n",
       "      <td>-1.05964</td>\n",
       "      <td>0.048564</td>\n",
       "      <td>0.045429</td>\n",
       "      <td>0.021161</td>\n",
       "      <td>0.000164</td>\n",
       "      <td>0.351579</td>\n",
       "      <td>-1.097854</td>\n",
       "    </tr>\n",
       "  </tbody>\n",
       "</table>\n",
       "<p>1 rows × 840 columns</p>\n",
       "</div>"
      ],
      "text/plain": [
       "   HNRNPC_Percentile_(0.00-0.05)_Proportion  \\\n",
       "0                                  0.263185   \n",
       "\n",
       "   HNRNPC_Percentile_(0.00-0.05)_Max_Min  HNRNPC_Percentile_(0.00-0.05)_Mean  \\\n",
       "0                               0.047526                            0.026481   \n",
       "\n",
       "   HNRNPC_Percentile_(0.00-0.05)_Variance  HNRNPC_Percentile_(0.00-0.05)_Skew  \\\n",
       "0                                0.000154                             0.07173   \n",
       "\n",
       "   HNRNPC_Percentile_(0.00-0.05)_Kurtosis  \\\n",
       "0                               -0.973721   \n",
       "\n",
       "   HNRNPC_Percentile_(0.05-0.10)_Proportion  \\\n",
       "0                                  0.140992   \n",
       "\n",
       "   HNRNPC_Percentile_(0.05-0.10)_Max_Min  HNRNPC_Percentile_(0.05-0.10)_Mean  \\\n",
       "0                                0.04958                            0.022864   \n",
       "\n",
       "   HNRNPC_Percentile_(0.05-0.10)_Variance  ...  \\\n",
       "0                                0.000193  ...   \n",
       "\n",
       "   TIA1_Percentile_(0.90-0.95)_Mean  TIA1_Percentile_(0.90-0.95)_Variance  \\\n",
       "0                           0.02889                              0.000189   \n",
       "\n",
       "   TIA1_Percentile_(0.90-0.95)_Skew  TIA1_Percentile_(0.90-0.95)_Kurtosis  \\\n",
       "0                         -0.365204                              -1.05964   \n",
       "\n",
       "   TIA1_Percentile_(0.95-1.00)_Proportion  \\\n",
       "0                                0.048564   \n",
       "\n",
       "   TIA1_Percentile_(0.95-1.00)_Max_Min  TIA1_Percentile_(0.95-1.00)_Mean  \\\n",
       "0                             0.045429                          0.021161   \n",
       "\n",
       "   TIA1_Percentile_(0.95-1.00)_Variance  TIA1_Percentile_(0.95-1.00)_Skew  \\\n",
       "0                              0.000164                          0.351579   \n",
       "\n",
       "   TIA1_Percentile_(0.95-1.00)_Kurtosis  \n",
       "0                             -1.097854  \n",
       "\n",
       "[1 rows x 840 columns]"
      ]
     },
     "execution_count": 3,
     "metadata": {},
     "output_type": "execute_result"
    }
   ],
   "source": [
    "# Flatten the dataframe\n",
    "flattened_data = {}\n",
    "\n",
    "for protein in result_df['Protein']:\n",
    "    protein_data = result_df[result_df['Protein'] == protein].drop(columns=['Protein']).to_dict(orient='records')[0]\n",
    "    for column, value in protein_data.items():\n",
    "        flattened_data[f'{protein}_{column}'] = value\n",
    "\n",
    "# Create a new dataframe from the flattened data\n",
    "flattened_summary_statistics_df = pd.DataFrame([flattened_data])\n",
    "flattened_summary_statistics_df"
   ]
  },
  {
   "cell_type": "code",
   "execution_count": 4,
   "metadata": {},
   "outputs": [
    {
     "data": {
      "text/html": [
       "<div>\n",
       "<style scoped>\n",
       "    .dataframe tbody tr th:only-of-type {\n",
       "        vertical-align: middle;\n",
       "    }\n",
       "\n",
       "    .dataframe tbody tr th {\n",
       "        vertical-align: top;\n",
       "    }\n",
       "\n",
       "    .dataframe thead th {\n",
       "        text-align: right;\n",
       "    }\n",
       "</style>\n",
       "<table border=\"1\" class=\"dataframe\">\n",
       "  <thead>\n",
       "    <tr style=\"text-align: right;\">\n",
       "      <th></th>\n",
       "      <th>Frequency_1</th>\n",
       "      <th>Magnitude_1</th>\n",
       "      <th>Frequency_2</th>\n",
       "      <th>Magnitude_2</th>\n",
       "      <th>Frequency_3</th>\n",
       "      <th>Magnitude_3</th>\n",
       "      <th>Frequency_4</th>\n",
       "      <th>Magnitude_4</th>\n",
       "      <th>Frequency_5</th>\n",
       "      <th>Magnitude_5</th>\n",
       "      <th>Frequency_6</th>\n",
       "      <th>Magnitude_6</th>\n",
       "      <th>Frequency_7</th>\n",
       "      <th>Magnitude_7</th>\n",
       "      <th>Frequency_8</th>\n",
       "      <th>Magnitude_8</th>\n",
       "      <th>Frequency_9</th>\n",
       "      <th>Magnitude_9</th>\n",
       "      <th>Frequency_10</th>\n",
       "      <th>Magnitude_10</th>\n",
       "    </tr>\n",
       "  </thead>\n",
       "  <tbody>\n",
       "    <tr>\n",
       "      <th>HNRNPC</th>\n",
       "      <td>-69.973890</td>\n",
       "      <td>55.476141</td>\n",
       "      <td>9.921671</td>\n",
       "      <td>55.736050</td>\n",
       "      <td>-9.921671</td>\n",
       "      <td>55.736050</td>\n",
       "      <td>-91.383812</td>\n",
       "      <td>62.070426</td>\n",
       "      <td>91.383812</td>\n",
       "      <td>62.070426</td>\n",
       "      <td>1.044386</td>\n",
       "      <td>79.225402</td>\n",
       "      <td>-1.044386</td>\n",
       "      <td>79.225402</td>\n",
       "      <td>5.221932</td>\n",
       "      <td>92.328448</td>\n",
       "      <td>-5.221932</td>\n",
       "      <td>92.328448</td>\n",
       "      <td>0.0</td>\n",
       "      <td>657.341871</td>\n",
       "    </tr>\n",
       "    <tr>\n",
       "      <th>HNRNPK</th>\n",
       "      <td>20.887728</td>\n",
       "      <td>52.739730</td>\n",
       "      <td>-11.488251</td>\n",
       "      <td>52.953602</td>\n",
       "      <td>11.488251</td>\n",
       "      <td>52.953602</td>\n",
       "      <td>-3.133159</td>\n",
       "      <td>53.462903</td>\n",
       "      <td>3.133159</td>\n",
       "      <td>53.462903</td>\n",
       "      <td>-67.362924</td>\n",
       "      <td>54.376120</td>\n",
       "      <td>67.362924</td>\n",
       "      <td>54.376120</td>\n",
       "      <td>-0.522193</td>\n",
       "      <td>189.107320</td>\n",
       "      <td>0.522193</td>\n",
       "      <td>189.107320</td>\n",
       "      <td>0.0</td>\n",
       "      <td>659.393504</td>\n",
       "    </tr>\n",
       "    <tr>\n",
       "      <th>HNRNPM</th>\n",
       "      <td>-4.699739</td>\n",
       "      <td>57.083067</td>\n",
       "      <td>22.454308</td>\n",
       "      <td>61.781350</td>\n",
       "      <td>-22.454308</td>\n",
       "      <td>61.781350</td>\n",
       "      <td>1.566580</td>\n",
       "      <td>63.907757</td>\n",
       "      <td>-1.566580</td>\n",
       "      <td>63.907757</td>\n",
       "      <td>-2.610966</td>\n",
       "      <td>75.105925</td>\n",
       "      <td>2.610966</td>\n",
       "      <td>75.105925</td>\n",
       "      <td>-1.044386</td>\n",
       "      <td>98.231750</td>\n",
       "      <td>1.044386</td>\n",
       "      <td>98.231750</td>\n",
       "      <td>0.0</td>\n",
       "      <td>603.470567</td>\n",
       "    </tr>\n",
       "    <tr>\n",
       "      <th>MATR3</th>\n",
       "      <td>-35.509138</td>\n",
       "      <td>61.182627</td>\n",
       "      <td>-2.610966</td>\n",
       "      <td>62.593038</td>\n",
       "      <td>2.610966</td>\n",
       "      <td>62.593038</td>\n",
       "      <td>-1.044386</td>\n",
       "      <td>73.277051</td>\n",
       "      <td>1.044386</td>\n",
       "      <td>73.277051</td>\n",
       "      <td>1.566580</td>\n",
       "      <td>81.029901</td>\n",
       "      <td>-1.566580</td>\n",
       "      <td>81.029901</td>\n",
       "      <td>0.522193</td>\n",
       "      <td>85.401535</td>\n",
       "      <td>-0.522193</td>\n",
       "      <td>85.401535</td>\n",
       "      <td>0.0</td>\n",
       "      <td>997.412870</td>\n",
       "    </tr>\n",
       "    <tr>\n",
       "      <th>PTBP1</th>\n",
       "      <td>-35.509138</td>\n",
       "      <td>46.466199</td>\n",
       "      <td>5.221932</td>\n",
       "      <td>53.292384</td>\n",
       "      <td>-5.221932</td>\n",
       "      <td>53.292384</td>\n",
       "      <td>-1.566580</td>\n",
       "      <td>64.918581</td>\n",
       "      <td>1.566580</td>\n",
       "      <td>64.918581</td>\n",
       "      <td>2.610966</td>\n",
       "      <td>75.849934</td>\n",
       "      <td>-2.610966</td>\n",
       "      <td>75.849934</td>\n",
       "      <td>1.044386</td>\n",
       "      <td>117.437325</td>\n",
       "      <td>-1.044386</td>\n",
       "      <td>117.437325</td>\n",
       "      <td>0.0</td>\n",
       "      <td>707.239891</td>\n",
       "    </tr>\n",
       "    <tr>\n",
       "      <th>SRSF1</th>\n",
       "      <td>-4.177546</td>\n",
       "      <td>44.083147</td>\n",
       "      <td>89.817232</td>\n",
       "      <td>44.718518</td>\n",
       "      <td>-89.817232</td>\n",
       "      <td>44.718518</td>\n",
       "      <td>-2.610966</td>\n",
       "      <td>57.039804</td>\n",
       "      <td>2.610966</td>\n",
       "      <td>57.039804</td>\n",
       "      <td>1.566580</td>\n",
       "      <td>76.816592</td>\n",
       "      <td>-1.566580</td>\n",
       "      <td>76.816592</td>\n",
       "      <td>1.044386</td>\n",
       "      <td>81.547786</td>\n",
       "      <td>-1.044386</td>\n",
       "      <td>81.547786</td>\n",
       "      <td>0.0</td>\n",
       "      <td>662.072372</td>\n",
       "    </tr>\n",
       "    <tr>\n",
       "      <th>TIA1</th>\n",
       "      <td>22.454308</td>\n",
       "      <td>60.877593</td>\n",
       "      <td>35.509138</td>\n",
       "      <td>62.216170</td>\n",
       "      <td>-35.509138</td>\n",
       "      <td>62.216170</td>\n",
       "      <td>-6.266319</td>\n",
       "      <td>62.634710</td>\n",
       "      <td>6.266319</td>\n",
       "      <td>62.634710</td>\n",
       "      <td>5.221932</td>\n",
       "      <td>72.048096</td>\n",
       "      <td>-5.221932</td>\n",
       "      <td>72.048096</td>\n",
       "      <td>1.044386</td>\n",
       "      <td>72.273612</td>\n",
       "      <td>-1.044386</td>\n",
       "      <td>72.273612</td>\n",
       "      <td>0.0</td>\n",
       "      <td>788.111792</td>\n",
       "    </tr>\n",
       "  </tbody>\n",
       "</table>\n",
       "</div>"
      ],
      "text/plain": [
       "        Frequency_1  Magnitude_1  Frequency_2  Magnitude_2  Frequency_3  \\\n",
       "HNRNPC   -69.973890    55.476141     9.921671    55.736050    -9.921671   \n",
       "HNRNPK    20.887728    52.739730   -11.488251    52.953602    11.488251   \n",
       "HNRNPM    -4.699739    57.083067    22.454308    61.781350   -22.454308   \n",
       "MATR3    -35.509138    61.182627    -2.610966    62.593038     2.610966   \n",
       "PTBP1    -35.509138    46.466199     5.221932    53.292384    -5.221932   \n",
       "SRSF1     -4.177546    44.083147    89.817232    44.718518   -89.817232   \n",
       "TIA1      22.454308    60.877593    35.509138    62.216170   -35.509138   \n",
       "\n",
       "        Magnitude_3  Frequency_4  Magnitude_4  Frequency_5  Magnitude_5  \\\n",
       "HNRNPC    55.736050   -91.383812    62.070426    91.383812    62.070426   \n",
       "HNRNPK    52.953602    -3.133159    53.462903     3.133159    53.462903   \n",
       "HNRNPM    61.781350     1.566580    63.907757    -1.566580    63.907757   \n",
       "MATR3     62.593038    -1.044386    73.277051     1.044386    73.277051   \n",
       "PTBP1     53.292384    -1.566580    64.918581     1.566580    64.918581   \n",
       "SRSF1     44.718518    -2.610966    57.039804     2.610966    57.039804   \n",
       "TIA1      62.216170    -6.266319    62.634710     6.266319    62.634710   \n",
       "\n",
       "        Frequency_6  Magnitude_6  Frequency_7  Magnitude_7  Frequency_8  \\\n",
       "HNRNPC     1.044386    79.225402    -1.044386    79.225402     5.221932   \n",
       "HNRNPK   -67.362924    54.376120    67.362924    54.376120    -0.522193   \n",
       "HNRNPM    -2.610966    75.105925     2.610966    75.105925    -1.044386   \n",
       "MATR3      1.566580    81.029901    -1.566580    81.029901     0.522193   \n",
       "PTBP1      2.610966    75.849934    -2.610966    75.849934     1.044386   \n",
       "SRSF1      1.566580    76.816592    -1.566580    76.816592     1.044386   \n",
       "TIA1       5.221932    72.048096    -5.221932    72.048096     1.044386   \n",
       "\n",
       "        Magnitude_8  Frequency_9  Magnitude_9  Frequency_10  Magnitude_10  \n",
       "HNRNPC    92.328448    -5.221932    92.328448           0.0    657.341871  \n",
       "HNRNPK   189.107320     0.522193   189.107320           0.0    659.393504  \n",
       "HNRNPM    98.231750     1.044386    98.231750           0.0    603.470567  \n",
       "MATR3     85.401535    -0.522193    85.401535           0.0    997.412870  \n",
       "PTBP1    117.437325    -1.044386   117.437325           0.0    707.239891  \n",
       "SRSF1     81.547786    -1.044386    81.547786           0.0    662.072372  \n",
       "TIA1      72.273612    -1.044386    72.273612           0.0    788.111792  "
      ]
     },
     "execution_count": 4,
     "metadata": {},
     "output_type": "execute_result"
    }
   ],
   "source": [
    "# Select top K waves\n",
    "K = 10\n",
    "protein_signals = {protein: df[protein].values for protein in proteins}\n",
    "fft_features = {}\n",
    "\n",
    "for protein, signal in protein_signals.items():\n",
    "    # Perform Fourier Transform\n",
    "    fft_values = np.fft.fft(signal)\n",
    "    fft_freq = np.fft.fftfreq(len(signal), d=1/1000)\n",
    "    fft_magnitude = np.abs(fft_values)\n",
    "    \n",
    "    # Extract top K waves\n",
    "    top_k_indices = np.argsort(fft_magnitude)[-K:]\n",
    "    fft_features[protein] = {\n",
    "        'frequencies': fft_freq[top_k_indices],\n",
    "        'magnitudes': fft_magnitude[top_k_indices]\n",
    "    }\n",
    "\n",
    "# Create a dataframe with the top K frequencies and magnitudes\n",
    "top_k_df = pd.DataFrame()\n",
    "\n",
    "for protein, features in fft_features.items():\n",
    "    for i in range(K):\n",
    "        top_k_df.loc[protein, f'Frequency_{i+1}'] = features['frequencies'][i]\n",
    "        top_k_df.loc[protein, f'Magnitude_{i+1}'] = features['magnitudes'][i]\n",
    "\n",
    "top_k_df"
   ]
  },
  {
   "cell_type": "code",
   "execution_count": 5,
   "metadata": {},
   "outputs": [
    {
     "data": {
      "text/html": [
       "<div>\n",
       "<style scoped>\n",
       "    .dataframe tbody tr th:only-of-type {\n",
       "        vertical-align: middle;\n",
       "    }\n",
       "\n",
       "    .dataframe tbody tr th {\n",
       "        vertical-align: top;\n",
       "    }\n",
       "\n",
       "    .dataframe thead th {\n",
       "        text-align: right;\n",
       "    }\n",
       "</style>\n",
       "<table border=\"1\" class=\"dataframe\">\n",
       "  <thead>\n",
       "    <tr style=\"text-align: right;\">\n",
       "      <th></th>\n",
       "      <th>HNRNPC_Frequency_1</th>\n",
       "      <th>HNRNPC_Magnitude_1</th>\n",
       "      <th>HNRNPC_Frequency_2</th>\n",
       "      <th>HNRNPC_Magnitude_2</th>\n",
       "      <th>HNRNPC_Frequency_3</th>\n",
       "      <th>HNRNPC_Magnitude_3</th>\n",
       "      <th>HNRNPC_Frequency_4</th>\n",
       "      <th>HNRNPC_Magnitude_4</th>\n",
       "      <th>HNRNPC_Frequency_5</th>\n",
       "      <th>HNRNPC_Magnitude_5</th>\n",
       "      <th>...</th>\n",
       "      <th>TIA1_Frequency_6</th>\n",
       "      <th>TIA1_Magnitude_6</th>\n",
       "      <th>TIA1_Frequency_7</th>\n",
       "      <th>TIA1_Magnitude_7</th>\n",
       "      <th>TIA1_Frequency_8</th>\n",
       "      <th>TIA1_Magnitude_8</th>\n",
       "      <th>TIA1_Frequency_9</th>\n",
       "      <th>TIA1_Magnitude_9</th>\n",
       "      <th>TIA1_Frequency_10</th>\n",
       "      <th>TIA1_Magnitude_10</th>\n",
       "    </tr>\n",
       "  </thead>\n",
       "  <tbody>\n",
       "    <tr>\n",
       "      <th>0</th>\n",
       "      <td>-69.97389</td>\n",
       "      <td>55.476141</td>\n",
       "      <td>9.921671</td>\n",
       "      <td>55.73605</td>\n",
       "      <td>-9.921671</td>\n",
       "      <td>55.73605</td>\n",
       "      <td>-91.383812</td>\n",
       "      <td>62.070426</td>\n",
       "      <td>91.383812</td>\n",
       "      <td>62.070426</td>\n",
       "      <td>...</td>\n",
       "      <td>5.221932</td>\n",
       "      <td>72.048096</td>\n",
       "      <td>-5.221932</td>\n",
       "      <td>72.048096</td>\n",
       "      <td>1.044386</td>\n",
       "      <td>72.273612</td>\n",
       "      <td>-1.044386</td>\n",
       "      <td>72.273612</td>\n",
       "      <td>0.0</td>\n",
       "      <td>788.111792</td>\n",
       "    </tr>\n",
       "  </tbody>\n",
       "</table>\n",
       "<p>1 rows × 140 columns</p>\n",
       "</div>"
      ],
      "text/plain": [
       "   HNRNPC_Frequency_1  HNRNPC_Magnitude_1  HNRNPC_Frequency_2  \\\n",
       "0           -69.97389           55.476141            9.921671   \n",
       "\n",
       "   HNRNPC_Magnitude_2  HNRNPC_Frequency_3  HNRNPC_Magnitude_3  \\\n",
       "0            55.73605           -9.921671            55.73605   \n",
       "\n",
       "   HNRNPC_Frequency_4  HNRNPC_Magnitude_4  HNRNPC_Frequency_5  \\\n",
       "0          -91.383812           62.070426           91.383812   \n",
       "\n",
       "   HNRNPC_Magnitude_5  ...  TIA1_Frequency_6  TIA1_Magnitude_6  \\\n",
       "0           62.070426  ...          5.221932         72.048096   \n",
       "\n",
       "   TIA1_Frequency_7  TIA1_Magnitude_7  TIA1_Frequency_8  TIA1_Magnitude_8  \\\n",
       "0         -5.221932         72.048096          1.044386         72.273612   \n",
       "\n",
       "   TIA1_Frequency_9  TIA1_Magnitude_9  TIA1_Frequency_10  TIA1_Magnitude_10  \n",
       "0         -1.044386         72.273612                0.0         788.111792  \n",
       "\n",
       "[1 rows x 140 columns]"
      ]
     },
     "execution_count": 5,
     "metadata": {},
     "output_type": "execute_result"
    }
   ],
   "source": [
    "# Flatten the dataframe\n",
    "flattened_data = {}\n",
    "\n",
    "for protein in top_k_df.index:\n",
    "    protein_data = top_k_df.loc[protein].to_dict()\n",
    "    for column, value in protein_data.items():\n",
    "        flattened_data[f'{protein}_{column}'] = value\n",
    "\n",
    "# Create a new dataframe from the flattened data\n",
    "flattened_fourier_transform_df = pd.DataFrame([flattened_data])\n",
    "flattened_fourier_transform_df"
   ]
  },
  {
   "cell_type": "code",
   "execution_count": 6,
   "metadata": {},
   "outputs": [
    {
     "data": {
      "text/html": [
       "<div>\n",
       "<style scoped>\n",
       "    .dataframe tbody tr th:only-of-type {\n",
       "        vertical-align: middle;\n",
       "    }\n",
       "\n",
       "    .dataframe tbody tr th {\n",
       "        vertical-align: top;\n",
       "    }\n",
       "\n",
       "    .dataframe thead th {\n",
       "        text-align: right;\n",
       "    }\n",
       "</style>\n",
       "<table border=\"1\" class=\"dataframe\">\n",
       "  <thead>\n",
       "    <tr style=\"text-align: right;\">\n",
       "      <th></th>\n",
       "      <th>HNRNPC_x_HNRNPC</th>\n",
       "      <th>HNRNPC_x_HNRNPK</th>\n",
       "      <th>HNRNPC_x_HNRNPM</th>\n",
       "      <th>HNRNPC_x_MATR3</th>\n",
       "      <th>HNRNPC_x_PTBP1</th>\n",
       "      <th>HNRNPC_x_SRSF1</th>\n",
       "      <th>HNRNPC_x_TIA1</th>\n",
       "      <th>HNRNPK_x_HNRNPK</th>\n",
       "      <th>HNRNPK_x_HNRNPM</th>\n",
       "      <th>HNRNPK_x_MATR3</th>\n",
       "      <th>...</th>\n",
       "      <th>MATR3_x_MATR3</th>\n",
       "      <th>MATR3_x_PTBP1</th>\n",
       "      <th>MATR3_x_SRSF1</th>\n",
       "      <th>MATR3_x_TIA1</th>\n",
       "      <th>PTBP1_x_PTBP1</th>\n",
       "      <th>PTBP1_x_SRSF1</th>\n",
       "      <th>PTBP1_x_TIA1</th>\n",
       "      <th>SRSF1_x_SRSF1</th>\n",
       "      <th>SRSF1_x_TIA1</th>\n",
       "      <th>TIA1_x_TIA1</th>\n",
       "    </tr>\n",
       "  </thead>\n",
       "  <tbody>\n",
       "    <tr>\n",
       "      <th>Autocorrelation(0)</th>\n",
       "      <td>1.000000</td>\n",
       "      <td>0.343487</td>\n",
       "      <td>0.527737</td>\n",
       "      <td>0.595220</td>\n",
       "      <td>0.552068</td>\n",
       "      <td>0.493478</td>\n",
       "      <td>0.742052</td>\n",
       "      <td>1.000000</td>\n",
       "      <td>0.386044</td>\n",
       "      <td>0.535738</td>\n",
       "      <td>...</td>\n",
       "      <td>1.000000</td>\n",
       "      <td>0.763586</td>\n",
       "      <td>0.540355</td>\n",
       "      <td>0.702491</td>\n",
       "      <td>1.000000</td>\n",
       "      <td>0.587409</td>\n",
       "      <td>0.676603</td>\n",
       "      <td>1.000000</td>\n",
       "      <td>0.561258</td>\n",
       "      <td>1.000000</td>\n",
       "    </tr>\n",
       "    <tr>\n",
       "      <th>Autocorrelation(1)</th>\n",
       "      <td>0.756032</td>\n",
       "      <td>0.271052</td>\n",
       "      <td>0.416690</td>\n",
       "      <td>0.515106</td>\n",
       "      <td>0.482880</td>\n",
       "      <td>0.326616</td>\n",
       "      <td>0.564011</td>\n",
       "      <td>0.822605</td>\n",
       "      <td>0.310767</td>\n",
       "      <td>0.500754</td>\n",
       "      <td>...</td>\n",
       "      <td>0.788572</td>\n",
       "      <td>0.639187</td>\n",
       "      <td>0.346942</td>\n",
       "      <td>0.512498</td>\n",
       "      <td>0.769100</td>\n",
       "      <td>0.370314</td>\n",
       "      <td>0.460689</td>\n",
       "      <td>0.736090</td>\n",
       "      <td>0.436737</td>\n",
       "      <td>0.731443</td>\n",
       "    </tr>\n",
       "    <tr>\n",
       "      <th>Autocorrelation(2)</th>\n",
       "      <td>0.461247</td>\n",
       "      <td>0.128786</td>\n",
       "      <td>0.219421</td>\n",
       "      <td>0.338186</td>\n",
       "      <td>0.279816</td>\n",
       "      <td>0.091745</td>\n",
       "      <td>0.307091</td>\n",
       "      <td>0.580827</td>\n",
       "      <td>0.164776</td>\n",
       "      <td>0.363139</td>\n",
       "      <td>...</td>\n",
       "      <td>0.532194</td>\n",
       "      <td>0.405879</td>\n",
       "      <td>0.125059</td>\n",
       "      <td>0.267414</td>\n",
       "      <td>0.486674</td>\n",
       "      <td>0.137298</td>\n",
       "      <td>0.238103</td>\n",
       "      <td>0.397415</td>\n",
       "      <td>0.191807</td>\n",
       "      <td>0.374943</td>\n",
       "    </tr>\n",
       "    <tr>\n",
       "      <th>Autocorrelation(3)</th>\n",
       "      <td>0.235977</td>\n",
       "      <td>0.005201</td>\n",
       "      <td>0.060244</td>\n",
       "      <td>0.138627</td>\n",
       "      <td>0.065033</td>\n",
       "      <td>-0.087643</td>\n",
       "      <td>0.109666</td>\n",
       "      <td>0.383374</td>\n",
       "      <td>0.067591</td>\n",
       "      <td>0.208966</td>\n",
       "      <td>...</td>\n",
       "      <td>0.297649</td>\n",
       "      <td>0.193109</td>\n",
       "      <td>-0.031937</td>\n",
       "      <td>0.096208</td>\n",
       "      <td>0.278683</td>\n",
       "      <td>-0.015821</td>\n",
       "      <td>0.114057</td>\n",
       "      <td>0.162188</td>\n",
       "      <td>0.013059</td>\n",
       "      <td>0.123167</td>\n",
       "    </tr>\n",
       "  </tbody>\n",
       "</table>\n",
       "<p>4 rows × 28 columns</p>\n",
       "</div>"
      ],
      "text/plain": [
       "                    HNRNPC_x_HNRNPC  HNRNPC_x_HNRNPK  HNRNPC_x_HNRNPM  \\\n",
       "Autocorrelation(0)         1.000000         0.343487         0.527737   \n",
       "Autocorrelation(1)         0.756032         0.271052         0.416690   \n",
       "Autocorrelation(2)         0.461247         0.128786         0.219421   \n",
       "Autocorrelation(3)         0.235977         0.005201         0.060244   \n",
       "\n",
       "                    HNRNPC_x_MATR3  HNRNPC_x_PTBP1  HNRNPC_x_SRSF1  \\\n",
       "Autocorrelation(0)        0.595220        0.552068        0.493478   \n",
       "Autocorrelation(1)        0.515106        0.482880        0.326616   \n",
       "Autocorrelation(2)        0.338186        0.279816        0.091745   \n",
       "Autocorrelation(3)        0.138627        0.065033       -0.087643   \n",
       "\n",
       "                    HNRNPC_x_TIA1  HNRNPK_x_HNRNPK  HNRNPK_x_HNRNPM  \\\n",
       "Autocorrelation(0)       0.742052         1.000000         0.386044   \n",
       "Autocorrelation(1)       0.564011         0.822605         0.310767   \n",
       "Autocorrelation(2)       0.307091         0.580827         0.164776   \n",
       "Autocorrelation(3)       0.109666         0.383374         0.067591   \n",
       "\n",
       "                    HNRNPK_x_MATR3  ...  MATR3_x_MATR3  MATR3_x_PTBP1  \\\n",
       "Autocorrelation(0)        0.535738  ...       1.000000       0.763586   \n",
       "Autocorrelation(1)        0.500754  ...       0.788572       0.639187   \n",
       "Autocorrelation(2)        0.363139  ...       0.532194       0.405879   \n",
       "Autocorrelation(3)        0.208966  ...       0.297649       0.193109   \n",
       "\n",
       "                    MATR3_x_SRSF1  MATR3_x_TIA1  PTBP1_x_PTBP1  PTBP1_x_SRSF1  \\\n",
       "Autocorrelation(0)       0.540355      0.702491       1.000000       0.587409   \n",
       "Autocorrelation(1)       0.346942      0.512498       0.769100       0.370314   \n",
       "Autocorrelation(2)       0.125059      0.267414       0.486674       0.137298   \n",
       "Autocorrelation(3)      -0.031937      0.096208       0.278683      -0.015821   \n",
       "\n",
       "                    PTBP1_x_TIA1  SRSF1_x_SRSF1  SRSF1_x_TIA1  TIA1_x_TIA1  \n",
       "Autocorrelation(0)      0.676603       1.000000      0.561258     1.000000  \n",
       "Autocorrelation(1)      0.460689       0.736090      0.436737     0.731443  \n",
       "Autocorrelation(2)      0.238103       0.397415      0.191807     0.374943  \n",
       "Autocorrelation(3)      0.114057       0.162188      0.013059     0.123167  \n",
       "\n",
       "[4 rows x 28 columns]"
      ]
     },
     "execution_count": 6,
     "metadata": {},
     "output_type": "execute_result"
    }
   ],
   "source": [
    "# Auto-correlation Matrices per Lag\n",
    "lags = [0, 1, 2, 3]\n",
    "autocorrelation_features_list = []\n",
    "column_names = [f'{p1}_x_{p2}' for p1 in proteins for p2 in proteins if p1 <= p2]\n",
    "\n",
    "for L in lags:\n",
    "    autocorrelation_matrix = pd.DataFrame(index=proteins, columns=proteins)\n",
    "    for protein1 in proteins:\n",
    "        for protein2 in proteins:\n",
    "            autocorrelation_matrix.loc[protein1, protein2] = df[protein1].corr(df[protein2].shift(L))\n",
    "    autocorrelation_features_list.append(autocorrelation_matrix.where(np.triu(np.ones(autocorrelation_matrix.shape), k=0).astype(bool)).stack().values)\n",
    "\n",
    "# Extract unique autocorrelations and transform to 1D arrays\n",
    "autocorrelation_df = pd.DataFrame(autocorrelation_features_list, columns=column_names)\n",
    "autocorrelation_df.index = [f'Autocorrelation({L})' for L in lags]\n",
    "autocorrelation_df"
   ]
  },
  {
   "cell_type": "code",
   "execution_count": 7,
   "metadata": {},
   "outputs": [
    {
     "data": {
      "text/html": [
       "<div>\n",
       "<style scoped>\n",
       "    .dataframe tbody tr th:only-of-type {\n",
       "        vertical-align: middle;\n",
       "    }\n",
       "\n",
       "    .dataframe tbody tr th {\n",
       "        vertical-align: top;\n",
       "    }\n",
       "\n",
       "    .dataframe thead th {\n",
       "        text-align: right;\n",
       "    }\n",
       "</style>\n",
       "<table border=\"1\" class=\"dataframe\">\n",
       "  <thead>\n",
       "    <tr style=\"text-align: right;\">\n",
       "      <th></th>\n",
       "      <th>HNRNPC_x_HNRNPK_Autocorrelation(0)</th>\n",
       "      <th>HNRNPC_x_HNRNPM_Autocorrelation(0)</th>\n",
       "      <th>HNRNPC_x_MATR3_Autocorrelation(0)</th>\n",
       "      <th>HNRNPC_x_PTBP1_Autocorrelation(0)</th>\n",
       "      <th>HNRNPC_x_SRSF1_Autocorrelation(0)</th>\n",
       "      <th>HNRNPC_x_TIA1_Autocorrelation(0)</th>\n",
       "      <th>HNRNPK_x_HNRNPM_Autocorrelation(0)</th>\n",
       "      <th>HNRNPK_x_MATR3_Autocorrelation(0)</th>\n",
       "      <th>HNRNPK_x_PTBP1_Autocorrelation(0)</th>\n",
       "      <th>HNRNPK_x_SRSF1_Autocorrelation(0)</th>\n",
       "      <th>...</th>\n",
       "      <th>MATR3_x_MATR3_Autocorrelation(3)</th>\n",
       "      <th>MATR3_x_PTBP1_Autocorrelation(3)</th>\n",
       "      <th>MATR3_x_SRSF1_Autocorrelation(3)</th>\n",
       "      <th>MATR3_x_TIA1_Autocorrelation(3)</th>\n",
       "      <th>PTBP1_x_PTBP1_Autocorrelation(3)</th>\n",
       "      <th>PTBP1_x_SRSF1_Autocorrelation(3)</th>\n",
       "      <th>PTBP1_x_TIA1_Autocorrelation(3)</th>\n",
       "      <th>SRSF1_x_SRSF1_Autocorrelation(3)</th>\n",
       "      <th>SRSF1_x_TIA1_Autocorrelation(3)</th>\n",
       "      <th>TIA1_x_TIA1_Autocorrelation(3)</th>\n",
       "    </tr>\n",
       "  </thead>\n",
       "  <tbody>\n",
       "    <tr>\n",
       "      <th>0</th>\n",
       "      <td>0.343487</td>\n",
       "      <td>0.527737</td>\n",
       "      <td>0.59522</td>\n",
       "      <td>0.552068</td>\n",
       "      <td>0.493478</td>\n",
       "      <td>0.742052</td>\n",
       "      <td>0.386044</td>\n",
       "      <td>0.535738</td>\n",
       "      <td>0.526527</td>\n",
       "      <td>0.363587</td>\n",
       "      <td>...</td>\n",
       "      <td>0.297649</td>\n",
       "      <td>0.193109</td>\n",
       "      <td>-0.031937</td>\n",
       "      <td>0.096208</td>\n",
       "      <td>0.278683</td>\n",
       "      <td>-0.015821</td>\n",
       "      <td>0.114057</td>\n",
       "      <td>0.162188</td>\n",
       "      <td>0.013059</td>\n",
       "      <td>0.123167</td>\n",
       "    </tr>\n",
       "  </tbody>\n",
       "</table>\n",
       "<p>1 rows × 105 columns</p>\n",
       "</div>"
      ],
      "text/plain": [
       "   HNRNPC_x_HNRNPK_Autocorrelation(0)  HNRNPC_x_HNRNPM_Autocorrelation(0)  \\\n",
       "0                            0.343487                            0.527737   \n",
       "\n",
       "   HNRNPC_x_MATR3_Autocorrelation(0)  HNRNPC_x_PTBP1_Autocorrelation(0)  \\\n",
       "0                            0.59522                           0.552068   \n",
       "\n",
       "   HNRNPC_x_SRSF1_Autocorrelation(0)  HNRNPC_x_TIA1_Autocorrelation(0)  \\\n",
       "0                           0.493478                          0.742052   \n",
       "\n",
       "   HNRNPK_x_HNRNPM_Autocorrelation(0)  HNRNPK_x_MATR3_Autocorrelation(0)  \\\n",
       "0                            0.386044                           0.535738   \n",
       "\n",
       "   HNRNPK_x_PTBP1_Autocorrelation(0)  HNRNPK_x_SRSF1_Autocorrelation(0)  ...  \\\n",
       "0                           0.526527                           0.363587  ...   \n",
       "\n",
       "   MATR3_x_MATR3_Autocorrelation(3)  MATR3_x_PTBP1_Autocorrelation(3)  \\\n",
       "0                          0.297649                          0.193109   \n",
       "\n",
       "   MATR3_x_SRSF1_Autocorrelation(3)  MATR3_x_TIA1_Autocorrelation(3)  \\\n",
       "0                         -0.031937                         0.096208   \n",
       "\n",
       "   PTBP1_x_PTBP1_Autocorrelation(3)  PTBP1_x_SRSF1_Autocorrelation(3)  \\\n",
       "0                          0.278683                         -0.015821   \n",
       "\n",
       "   PTBP1_x_TIA1_Autocorrelation(3)  SRSF1_x_SRSF1_Autocorrelation(3)  \\\n",
       "0                         0.114057                          0.162188   \n",
       "\n",
       "   SRSF1_x_TIA1_Autocorrelation(3)  TIA1_x_TIA1_Autocorrelation(3)  \n",
       "0                         0.013059                        0.123167  \n",
       "\n",
       "[1 rows x 105 columns]"
      ]
     },
     "execution_count": 7,
     "metadata": {},
     "output_type": "execute_result"
    }
   ],
   "source": [
    "# Flatten the dataframe\n",
    "flattened_data = {}\n",
    "\n",
    "for lag in autocorrelation_df.index:\n",
    "    lag_data = autocorrelation_df.loc[lag].to_dict()\n",
    "    for column, value in lag_data.items():\n",
    "        if lag != 'Autocorrelation(0)' or column.split('_x_')[0] != column.split('_x_')[1]:\n",
    "            flattened_data[f'{column}_{lag}'] = value\n",
    "\n",
    "# Create a new dataframe from the flattened data\n",
    "flattened_autocorrelation_df = pd.DataFrame([flattened_data])\n",
    "flattened_autocorrelation_df"
   ]
  },
  {
   "cell_type": "code",
   "execution_count": 8,
   "metadata": {},
   "outputs": [
    {
     "data": {
      "text/html": [
       "<div>\n",
       "<style scoped>\n",
       "    .dataframe tbody tr th:only-of-type {\n",
       "        vertical-align: middle;\n",
       "    }\n",
       "\n",
       "    .dataframe tbody tr th {\n",
       "        vertical-align: top;\n",
       "    }\n",
       "\n",
       "    .dataframe thead th {\n",
       "        text-align: right;\n",
       "    }\n",
       "</style>\n",
       "<table border=\"1\" class=\"dataframe\">\n",
       "  <thead>\n",
       "    <tr style=\"text-align: right;\">\n",
       "      <th></th>\n",
       "      <th>HNRNPC_Percentile_(0.00-0.05)_Proportion</th>\n",
       "      <th>HNRNPC_Percentile_(0.00-0.05)_Max_Min</th>\n",
       "      <th>HNRNPC_Percentile_(0.00-0.05)_Mean</th>\n",
       "      <th>HNRNPC_Percentile_(0.00-0.05)_Variance</th>\n",
       "      <th>HNRNPC_Percentile_(0.00-0.05)_Skew</th>\n",
       "      <th>HNRNPC_Percentile_(0.00-0.05)_Kurtosis</th>\n",
       "      <th>HNRNPC_Percentile_(0.05-0.10)_Proportion</th>\n",
       "      <th>HNRNPC_Percentile_(0.05-0.10)_Max_Min</th>\n",
       "      <th>HNRNPC_Percentile_(0.05-0.10)_Mean</th>\n",
       "      <th>HNRNPC_Percentile_(0.05-0.10)_Variance</th>\n",
       "      <th>...</th>\n",
       "      <th>MATR3_x_MATR3_Autocorrelation(3)</th>\n",
       "      <th>MATR3_x_PTBP1_Autocorrelation(3)</th>\n",
       "      <th>MATR3_x_SRSF1_Autocorrelation(3)</th>\n",
       "      <th>MATR3_x_TIA1_Autocorrelation(3)</th>\n",
       "      <th>PTBP1_x_PTBP1_Autocorrelation(3)</th>\n",
       "      <th>PTBP1_x_SRSF1_Autocorrelation(3)</th>\n",
       "      <th>PTBP1_x_TIA1_Autocorrelation(3)</th>\n",
       "      <th>SRSF1_x_SRSF1_Autocorrelation(3)</th>\n",
       "      <th>SRSF1_x_TIA1_Autocorrelation(3)</th>\n",
       "      <th>TIA1_x_TIA1_Autocorrelation(3)</th>\n",
       "    </tr>\n",
       "  </thead>\n",
       "  <tbody>\n",
       "    <tr>\n",
       "      <th>0</th>\n",
       "      <td>0.263185</td>\n",
       "      <td>0.047526</td>\n",
       "      <td>0.026481</td>\n",
       "      <td>0.000154</td>\n",
       "      <td>0.07173</td>\n",
       "      <td>-0.973721</td>\n",
       "      <td>0.140992</td>\n",
       "      <td>0.04958</td>\n",
       "      <td>0.022864</td>\n",
       "      <td>0.000193</td>\n",
       "      <td>...</td>\n",
       "      <td>0.297649</td>\n",
       "      <td>0.193109</td>\n",
       "      <td>-0.031937</td>\n",
       "      <td>0.096208</td>\n",
       "      <td>0.278683</td>\n",
       "      <td>-0.015821</td>\n",
       "      <td>0.114057</td>\n",
       "      <td>0.162188</td>\n",
       "      <td>0.013059</td>\n",
       "      <td>0.123167</td>\n",
       "    </tr>\n",
       "  </tbody>\n",
       "</table>\n",
       "<p>1 rows × 1085 columns</p>\n",
       "</div>"
      ],
      "text/plain": [
       "   HNRNPC_Percentile_(0.00-0.05)_Proportion  \\\n",
       "0                                  0.263185   \n",
       "\n",
       "   HNRNPC_Percentile_(0.00-0.05)_Max_Min  HNRNPC_Percentile_(0.00-0.05)_Mean  \\\n",
       "0                               0.047526                            0.026481   \n",
       "\n",
       "   HNRNPC_Percentile_(0.00-0.05)_Variance  HNRNPC_Percentile_(0.00-0.05)_Skew  \\\n",
       "0                                0.000154                             0.07173   \n",
       "\n",
       "   HNRNPC_Percentile_(0.00-0.05)_Kurtosis  \\\n",
       "0                               -0.973721   \n",
       "\n",
       "   HNRNPC_Percentile_(0.05-0.10)_Proportion  \\\n",
       "0                                  0.140992   \n",
       "\n",
       "   HNRNPC_Percentile_(0.05-0.10)_Max_Min  HNRNPC_Percentile_(0.05-0.10)_Mean  \\\n",
       "0                                0.04958                            0.022864   \n",
       "\n",
       "   HNRNPC_Percentile_(0.05-0.10)_Variance  ...  \\\n",
       "0                                0.000193  ...   \n",
       "\n",
       "   MATR3_x_MATR3_Autocorrelation(3)  MATR3_x_PTBP1_Autocorrelation(3)  \\\n",
       "0                          0.297649                          0.193109   \n",
       "\n",
       "   MATR3_x_SRSF1_Autocorrelation(3)  MATR3_x_TIA1_Autocorrelation(3)  \\\n",
       "0                         -0.031937                         0.096208   \n",
       "\n",
       "   PTBP1_x_PTBP1_Autocorrelation(3)  PTBP1_x_SRSF1_Autocorrelation(3)  \\\n",
       "0                          0.278683                         -0.015821   \n",
       "\n",
       "   PTBP1_x_TIA1_Autocorrelation(3)  SRSF1_x_SRSF1_Autocorrelation(3)  \\\n",
       "0                         0.114057                          0.162188   \n",
       "\n",
       "   SRSF1_x_TIA1_Autocorrelation(3)  TIA1_x_TIA1_Autocorrelation(3)  \n",
       "0                         0.013059                        0.123167  \n",
       "\n",
       "[1 rows x 1085 columns]"
      ]
     },
     "execution_count": 8,
     "metadata": {},
     "output_type": "execute_result"
    }
   ],
   "source": [
    "# Combine all flattened dataframes into one\n",
    "combined_flattened_df = pd.concat([flattened_summary_statistics_df, flattened_fourier_transform_df, flattened_autocorrelation_df], axis=1)\n",
    "combined_flattened_df"
   ]
  },
  {
   "cell_type": "code",
   "execution_count": 9,
   "metadata": {},
   "outputs": [
    {
     "name": "stderr",
     "output_type": "stream",
     "text": [
      "C:\\Users\\simeo\\AppData\\Local\\Temp\\ipykernel_16084\\4164034881.py:28: SmallSampleWarning: One or more sample arguments is too small; all returned values will be NaN. See documentation for sample size requirements.\n",
      "  skews[f'{protein}_percentile{i}_skew'] = skew(percentile_data)\n",
      "C:\\Users\\simeo\\AppData\\Local\\Temp\\ipykernel_16084\\4164034881.py:29: SmallSampleWarning: One or more sample arguments is too small; all returned values will be NaN. See documentation for sample size requirements.\n",
      "  kurtoses[f'{protein}_percentile{i}_kurtosis'] = kurtosis(percentile_data)\n",
      "C:\\Users\\simeo\\AppData\\Local\\Temp\\ipykernel_16084\\4164034881.py:28: SmallSampleWarning: One or more sample arguments is too small; all returned values will be NaN. See documentation for sample size requirements.\n",
      "  skews[f'{protein}_percentile{i}_skew'] = skew(percentile_data)\n",
      "C:\\Users\\simeo\\AppData\\Local\\Temp\\ipykernel_16084\\4164034881.py:29: SmallSampleWarning: One or more sample arguments is too small; all returned values will be NaN. See documentation for sample size requirements.\n",
      "  kurtoses[f'{protein}_percentile{i}_kurtosis'] = kurtosis(percentile_data)\n",
      "C:\\Users\\simeo\\AppData\\Local\\Temp\\ipykernel_16084\\4164034881.py:28: SmallSampleWarning: One or more sample arguments is too small; all returned values will be NaN. See documentation for sample size requirements.\n",
      "  skews[f'{protein}_percentile{i}_skew'] = skew(percentile_data)\n",
      "C:\\Users\\simeo\\AppData\\Local\\Temp\\ipykernel_16084\\4164034881.py:29: SmallSampleWarning: One or more sample arguments is too small; all returned values will be NaN. See documentation for sample size requirements.\n",
      "  kurtoses[f'{protein}_percentile{i}_kurtosis'] = kurtosis(percentile_data)\n",
      "C:\\Users\\simeo\\AppData\\Local\\Temp\\ipykernel_16084\\4164034881.py:28: SmallSampleWarning: One or more sample arguments is too small; all returned values will be NaN. See documentation for sample size requirements.\n",
      "  skews[f'{protein}_percentile{i}_skew'] = skew(percentile_data)\n",
      "C:\\Users\\simeo\\AppData\\Local\\Temp\\ipykernel_16084\\4164034881.py:29: SmallSampleWarning: One or more sample arguments is too small; all returned values will be NaN. See documentation for sample size requirements.\n",
      "  kurtoses[f'{protein}_percentile{i}_kurtosis'] = kurtosis(percentile_data)\n",
      "C:\\Users\\simeo\\AppData\\Local\\Temp\\ipykernel_16084\\4164034881.py:28: SmallSampleWarning: One or more sample arguments is too small; all returned values will be NaN. See documentation for sample size requirements.\n",
      "  skews[f'{protein}_percentile{i}_skew'] = skew(percentile_data)\n",
      "C:\\Users\\simeo\\AppData\\Local\\Temp\\ipykernel_16084\\4164034881.py:29: SmallSampleWarning: One or more sample arguments is too small; all returned values will be NaN. See documentation for sample size requirements.\n",
      "  kurtoses[f'{protein}_percentile{i}_kurtosis'] = kurtosis(percentile_data)\n",
      "C:\\Users\\simeo\\AppData\\Local\\Temp\\ipykernel_16084\\4164034881.py:28: SmallSampleWarning: One or more sample arguments is too small; all returned values will be NaN. See documentation for sample size requirements.\n",
      "  skews[f'{protein}_percentile{i}_skew'] = skew(percentile_data)\n",
      "C:\\Users\\simeo\\AppData\\Local\\Temp\\ipykernel_16084\\4164034881.py:29: SmallSampleWarning: One or more sample arguments is too small; all returned values will be NaN. See documentation for sample size requirements.\n",
      "  kurtoses[f'{protein}_percentile{i}_kurtosis'] = kurtosis(percentile_data)\n",
      "C:\\Users\\simeo\\AppData\\Local\\Temp\\ipykernel_16084\\4164034881.py:28: SmallSampleWarning: One or more sample arguments is too small; all returned values will be NaN. See documentation for sample size requirements.\n",
      "  skews[f'{protein}_percentile{i}_skew'] = skew(percentile_data)\n",
      "C:\\Users\\simeo\\AppData\\Local\\Temp\\ipykernel_16084\\4164034881.py:29: SmallSampleWarning: One or more sample arguments is too small; all returned values will be NaN. See documentation for sample size requirements.\n",
      "  kurtoses[f'{protein}_percentile{i}_kurtosis'] = kurtosis(percentile_data)\n",
      "C:\\Users\\simeo\\AppData\\Local\\Temp\\ipykernel_16084\\4164034881.py:28: SmallSampleWarning: One or more sample arguments is too small; all returned values will be NaN. See documentation for sample size requirements.\n",
      "  skews[f'{protein}_percentile{i}_skew'] = skew(percentile_data)\n",
      "C:\\Users\\simeo\\AppData\\Local\\Temp\\ipykernel_16084\\4164034881.py:29: SmallSampleWarning: One or more sample arguments is too small; all returned values will be NaN. See documentation for sample size requirements.\n",
      "  kurtoses[f'{protein}_percentile{i}_kurtosis'] = kurtosis(percentile_data)\n",
      "C:\\Users\\simeo\\AppData\\Local\\Temp\\ipykernel_16084\\4164034881.py:28: SmallSampleWarning: One or more sample arguments is too small; all returned values will be NaN. See documentation for sample size requirements.\n",
      "  skews[f'{protein}_percentile{i}_skew'] = skew(percentile_data)\n",
      "C:\\Users\\simeo\\AppData\\Local\\Temp\\ipykernel_16084\\4164034881.py:29: SmallSampleWarning: One or more sample arguments is too small; all returned values will be NaN. See documentation for sample size requirements.\n",
      "  kurtoses[f'{protein}_percentile{i}_kurtosis'] = kurtosis(percentile_data)\n",
      "C:\\Users\\simeo\\AppData\\Local\\Temp\\ipykernel_16084\\4164034881.py:28: SmallSampleWarning: One or more sample arguments is too small; all returned values will be NaN. See documentation for sample size requirements.\n",
      "  skews[f'{protein}_percentile{i}_skew'] = skew(percentile_data)\n",
      "C:\\Users\\simeo\\AppData\\Local\\Temp\\ipykernel_16084\\4164034881.py:29: SmallSampleWarning: One or more sample arguments is too small; all returned values will be NaN. See documentation for sample size requirements.\n",
      "  kurtoses[f'{protein}_percentile{i}_kurtosis'] = kurtosis(percentile_data)\n",
      "C:\\Users\\simeo\\AppData\\Local\\Temp\\ipykernel_16084\\4164034881.py:28: SmallSampleWarning: One or more sample arguments is too small; all returned values will be NaN. See documentation for sample size requirements.\n",
      "  skews[f'{protein}_percentile{i}_skew'] = skew(percentile_data)\n",
      "C:\\Users\\simeo\\AppData\\Local\\Temp\\ipykernel_16084\\4164034881.py:29: SmallSampleWarning: One or more sample arguments is too small; all returned values will be NaN. See documentation for sample size requirements.\n",
      "  kurtoses[f'{protein}_percentile{i}_kurtosis'] = kurtosis(percentile_data)\n",
      "C:\\Users\\simeo\\AppData\\Local\\Temp\\ipykernel_16084\\4164034881.py:28: SmallSampleWarning: One or more sample arguments is too small; all returned values will be NaN. See documentation for sample size requirements.\n",
      "  skews[f'{protein}_percentile{i}_skew'] = skew(percentile_data)\n",
      "C:\\Users\\simeo\\AppData\\Local\\Temp\\ipykernel_16084\\4164034881.py:29: SmallSampleWarning: One or more sample arguments is too small; all returned values will be NaN. See documentation for sample size requirements.\n",
      "  kurtoses[f'{protein}_percentile{i}_kurtosis'] = kurtosis(percentile_data)\n"
     ]
    },
    {
     "data": {
      "text/html": [
       "<div>\n",
       "<style scoped>\n",
       "    .dataframe tbody tr th:only-of-type {\n",
       "        vertical-align: middle;\n",
       "    }\n",
       "\n",
       "    .dataframe tbody tr th {\n",
       "        vertical-align: top;\n",
       "    }\n",
       "\n",
       "    .dataframe thead th {\n",
       "        text-align: right;\n",
       "    }\n",
       "</style>\n",
       "<table border=\"1\" class=\"dataframe\">\n",
       "  <thead>\n",
       "    <tr style=\"text-align: right;\">\n",
       "      <th></th>\n",
       "      <th>HNRNPC_Percentile_(0.00-0.05)_Proportion</th>\n",
       "      <th>HNRNPC_Percentile_(0.00-0.05)_Max_Min</th>\n",
       "      <th>HNRNPC_Percentile_(0.00-0.05)_Mean</th>\n",
       "      <th>HNRNPC_Percentile_(0.00-0.05)_Variance</th>\n",
       "      <th>HNRNPC_Percentile_(0.00-0.05)_Skew</th>\n",
       "      <th>HNRNPC_Percentile_(0.00-0.05)_Kurtosis</th>\n",
       "      <th>HNRNPC_Percentile_(0.05-0.10)_Proportion</th>\n",
       "      <th>HNRNPC_Percentile_(0.05-0.10)_Max_Min</th>\n",
       "      <th>HNRNPC_Percentile_(0.05-0.10)_Mean</th>\n",
       "      <th>HNRNPC_Percentile_(0.05-0.10)_Variance</th>\n",
       "      <th>...</th>\n",
       "      <th>MATR3_x_MATR3_Autocorrelation(3)</th>\n",
       "      <th>MATR3_x_PTBP1_Autocorrelation(3)</th>\n",
       "      <th>MATR3_x_SRSF1_Autocorrelation(3)</th>\n",
       "      <th>MATR3_x_TIA1_Autocorrelation(3)</th>\n",
       "      <th>PTBP1_x_PTBP1_Autocorrelation(3)</th>\n",
       "      <th>PTBP1_x_SRSF1_Autocorrelation(3)</th>\n",
       "      <th>PTBP1_x_TIA1_Autocorrelation(3)</th>\n",
       "      <th>SRSF1_x_SRSF1_Autocorrelation(3)</th>\n",
       "      <th>SRSF1_x_TIA1_Autocorrelation(3)</th>\n",
       "      <th>TIA1_x_TIA1_Autocorrelation(3)</th>\n",
       "    </tr>\n",
       "  </thead>\n",
       "  <tbody>\n",
       "    <tr>\n",
       "      <th>ENST00000429829.6</th>\n",
       "      <td>0.263185</td>\n",
       "      <td>0.047526</td>\n",
       "      <td>0.026481</td>\n",
       "      <td>0.000154</td>\n",
       "      <td>0.071730</td>\n",
       "      <td>-0.973721</td>\n",
       "      <td>0.140992</td>\n",
       "      <td>0.049580</td>\n",
       "      <td>0.022864</td>\n",
       "      <td>0.000193</td>\n",
       "      <td>...</td>\n",
       "      <td>0.297649</td>\n",
       "      <td>0.193109</td>\n",
       "      <td>-0.031937</td>\n",
       "      <td>0.096208</td>\n",
       "      <td>0.278683</td>\n",
       "      <td>-0.015821</td>\n",
       "      <td>0.114057</td>\n",
       "      <td>0.162188</td>\n",
       "      <td>0.013059</td>\n",
       "      <td>0.123167</td>\n",
       "    </tr>\n",
       "    <tr>\n",
       "      <th>ENST00000431460.2</th>\n",
       "      <td>0.342105</td>\n",
       "      <td>0.042103</td>\n",
       "      <td>0.020874</td>\n",
       "      <td>0.000199</td>\n",
       "      <td>0.243675</td>\n",
       "      <td>-1.180162</td>\n",
       "      <td>0.078947</td>\n",
       "      <td>0.032469</td>\n",
       "      <td>0.017052</td>\n",
       "      <td>0.000344</td>\n",
       "      <td>...</td>\n",
       "      <td>0.237364</td>\n",
       "      <td>-0.115422</td>\n",
       "      <td>-0.049577</td>\n",
       "      <td>-0.143359</td>\n",
       "      <td>-0.137778</td>\n",
       "      <td>-0.059885</td>\n",
       "      <td>-0.117260</td>\n",
       "      <td>-0.084405</td>\n",
       "      <td>-0.121961</td>\n",
       "      <td>0.037662</td>\n",
       "    </tr>\n",
       "    <tr>\n",
       "      <th>ENST00000501122.3</th>\n",
       "      <td>0.180406</td>\n",
       "      <td>0.048587</td>\n",
       "      <td>0.025122</td>\n",
       "      <td>0.000173</td>\n",
       "      <td>0.126523</td>\n",
       "      <td>-1.085207</td>\n",
       "      <td>0.108761</td>\n",
       "      <td>0.049237</td>\n",
       "      <td>0.023245</td>\n",
       "      <td>0.000212</td>\n",
       "      <td>...</td>\n",
       "      <td>0.406652</td>\n",
       "      <td>0.166878</td>\n",
       "      <td>-0.055979</td>\n",
       "      <td>0.097474</td>\n",
       "      <td>0.269207</td>\n",
       "      <td>0.091790</td>\n",
       "      <td>0.088177</td>\n",
       "      <td>0.263036</td>\n",
       "      <td>0.034969</td>\n",
       "      <td>0.086222</td>\n",
       "    </tr>\n",
       "    <tr>\n",
       "      <th>ENST00000521028.4</th>\n",
       "      <td>0.421538</td>\n",
       "      <td>0.049861</td>\n",
       "      <td>0.023592</td>\n",
       "      <td>0.000204</td>\n",
       "      <td>0.225078</td>\n",
       "      <td>-1.154446</td>\n",
       "      <td>0.147692</td>\n",
       "      <td>0.047392</td>\n",
       "      <td>0.017712</td>\n",
       "      <td>0.000178</td>\n",
       "      <td>...</td>\n",
       "      <td>0.292615</td>\n",
       "      <td>0.119764</td>\n",
       "      <td>-0.101466</td>\n",
       "      <td>0.034540</td>\n",
       "      <td>0.058003</td>\n",
       "      <td>-0.165279</td>\n",
       "      <td>-0.054070</td>\n",
       "      <td>0.128520</td>\n",
       "      <td>-0.071790</td>\n",
       "      <td>0.016546</td>\n",
       "    </tr>\n",
       "    <tr>\n",
       "      <th>ENST00000534336.4</th>\n",
       "      <td>0.270974</td>\n",
       "      <td>0.047478</td>\n",
       "      <td>0.021167</td>\n",
       "      <td>0.000151</td>\n",
       "      <td>0.627532</td>\n",
       "      <td>-0.660524</td>\n",
       "      <td>0.116683</td>\n",
       "      <td>0.049682</td>\n",
       "      <td>0.023546</td>\n",
       "      <td>0.000223</td>\n",
       "      <td>...</td>\n",
       "      <td>0.263634</td>\n",
       "      <td>0.122931</td>\n",
       "      <td>0.054018</td>\n",
       "      <td>0.142361</td>\n",
       "      <td>0.247048</td>\n",
       "      <td>0.130133</td>\n",
       "      <td>0.122510</td>\n",
       "      <td>0.269469</td>\n",
       "      <td>0.159725</td>\n",
       "      <td>0.215392</td>\n",
       "    </tr>\n",
       "    <tr>\n",
       "      <th>ENST00000597346.1</th>\n",
       "      <td>0.425576</td>\n",
       "      <td>0.049176</td>\n",
       "      <td>0.024280</td>\n",
       "      <td>0.000166</td>\n",
       "      <td>0.247441</td>\n",
       "      <td>-1.045428</td>\n",
       "      <td>0.177569</td>\n",
       "      <td>0.049975</td>\n",
       "      <td>0.021062</td>\n",
       "      <td>0.000194</td>\n",
       "      <td>...</td>\n",
       "      <td>0.361456</td>\n",
       "      <td>0.023045</td>\n",
       "      <td>-0.008480</td>\n",
       "      <td>-0.087525</td>\n",
       "      <td>0.306713</td>\n",
       "      <td>0.162439</td>\n",
       "      <td>0.241138</td>\n",
       "      <td>0.368780</td>\n",
       "      <td>0.146927</td>\n",
       "      <td>0.319551</td>\n",
       "    </tr>\n",
       "    <tr>\n",
       "      <th>ENST00000601203.1</th>\n",
       "      <td>0.567757</td>\n",
       "      <td>0.048809</td>\n",
       "      <td>0.022179</td>\n",
       "      <td>0.000149</td>\n",
       "      <td>0.471997</td>\n",
       "      <td>-0.689185</td>\n",
       "      <td>0.130841</td>\n",
       "      <td>0.046713</td>\n",
       "      <td>0.024500</td>\n",
       "      <td>0.000230</td>\n",
       "      <td>...</td>\n",
       "      <td>0.419770</td>\n",
       "      <td>0.268306</td>\n",
       "      <td>0.009644</td>\n",
       "      <td>0.106231</td>\n",
       "      <td>0.422955</td>\n",
       "      <td>0.105995</td>\n",
       "      <td>0.219046</td>\n",
       "      <td>0.323967</td>\n",
       "      <td>0.074237</td>\n",
       "      <td>0.128965</td>\n",
       "    </tr>\n",
       "    <tr>\n",
       "      <th>ENST00000648200.2</th>\n",
       "      <td>0.356670</td>\n",
       "      <td>0.049234</td>\n",
       "      <td>0.021004</td>\n",
       "      <td>0.000152</td>\n",
       "      <td>0.518953</td>\n",
       "      <td>-0.752601</td>\n",
       "      <td>0.116840</td>\n",
       "      <td>0.049455</td>\n",
       "      <td>0.020075</td>\n",
       "      <td>0.000202</td>\n",
       "      <td>...</td>\n",
       "      <td>0.288796</td>\n",
       "      <td>0.249247</td>\n",
       "      <td>-0.054073</td>\n",
       "      <td>0.092383</td>\n",
       "      <td>0.423786</td>\n",
       "      <td>0.093194</td>\n",
       "      <td>0.169959</td>\n",
       "      <td>0.266762</td>\n",
       "      <td>0.096028</td>\n",
       "      <td>0.234341</td>\n",
       "    </tr>\n",
       "    <tr>\n",
       "      <th>ENST00000707047.1</th>\n",
       "      <td>0.515924</td>\n",
       "      <td>0.048183</td>\n",
       "      <td>0.018439</td>\n",
       "      <td>0.000138</td>\n",
       "      <td>0.908527</td>\n",
       "      <td>-0.179075</td>\n",
       "      <td>0.152866</td>\n",
       "      <td>0.049270</td>\n",
       "      <td>0.021850</td>\n",
       "      <td>0.000209</td>\n",
       "      <td>...</td>\n",
       "      <td>0.368881</td>\n",
       "      <td>0.251401</td>\n",
       "      <td>0.131199</td>\n",
       "      <td>0.108577</td>\n",
       "      <td>0.235472</td>\n",
       "      <td>0.062285</td>\n",
       "      <td>-0.126981</td>\n",
       "      <td>0.340800</td>\n",
       "      <td>0.027656</td>\n",
       "      <td>0.277215</td>\n",
       "    </tr>\n",
       "    <tr>\n",
       "      <th>ENST00000710492.1</th>\n",
       "      <td>0.516393</td>\n",
       "      <td>0.046262</td>\n",
       "      <td>0.015942</td>\n",
       "      <td>0.000175</td>\n",
       "      <td>0.974486</td>\n",
       "      <td>-0.256716</td>\n",
       "      <td>0.098361</td>\n",
       "      <td>0.045827</td>\n",
       "      <td>0.024689</td>\n",
       "      <td>0.000220</td>\n",
       "      <td>...</td>\n",
       "      <td>0.214327</td>\n",
       "      <td>0.115132</td>\n",
       "      <td>-0.299396</td>\n",
       "      <td>0.013108</td>\n",
       "      <td>0.388976</td>\n",
       "      <td>0.047337</td>\n",
       "      <td>0.260835</td>\n",
       "      <td>0.139120</td>\n",
       "      <td>0.035375</td>\n",
       "      <td>0.352879</td>\n",
       "    </tr>\n",
       "  </tbody>\n",
       "</table>\n",
       "<p>10 rows × 1085 columns</p>\n",
       "</div>"
      ],
      "text/plain": [
       "                   HNRNPC_Percentile_(0.00-0.05)_Proportion  \\\n",
       "ENST00000429829.6                                  0.263185   \n",
       "ENST00000431460.2                                  0.342105   \n",
       "ENST00000501122.3                                  0.180406   \n",
       "ENST00000521028.4                                  0.421538   \n",
       "ENST00000534336.4                                  0.270974   \n",
       "ENST00000597346.1                                  0.425576   \n",
       "ENST00000601203.1                                  0.567757   \n",
       "ENST00000648200.2                                  0.356670   \n",
       "ENST00000707047.1                                  0.515924   \n",
       "ENST00000710492.1                                  0.516393   \n",
       "\n",
       "                   HNRNPC_Percentile_(0.00-0.05)_Max_Min  \\\n",
       "ENST00000429829.6                               0.047526   \n",
       "ENST00000431460.2                               0.042103   \n",
       "ENST00000501122.3                               0.048587   \n",
       "ENST00000521028.4                               0.049861   \n",
       "ENST00000534336.4                               0.047478   \n",
       "ENST00000597346.1                               0.049176   \n",
       "ENST00000601203.1                               0.048809   \n",
       "ENST00000648200.2                               0.049234   \n",
       "ENST00000707047.1                               0.048183   \n",
       "ENST00000710492.1                               0.046262   \n",
       "\n",
       "                   HNRNPC_Percentile_(0.00-0.05)_Mean  \\\n",
       "ENST00000429829.6                            0.026481   \n",
       "ENST00000431460.2                            0.020874   \n",
       "ENST00000501122.3                            0.025122   \n",
       "ENST00000521028.4                            0.023592   \n",
       "ENST00000534336.4                            0.021167   \n",
       "ENST00000597346.1                            0.024280   \n",
       "ENST00000601203.1                            0.022179   \n",
       "ENST00000648200.2                            0.021004   \n",
       "ENST00000707047.1                            0.018439   \n",
       "ENST00000710492.1                            0.015942   \n",
       "\n",
       "                   HNRNPC_Percentile_(0.00-0.05)_Variance  \\\n",
       "ENST00000429829.6                                0.000154   \n",
       "ENST00000431460.2                                0.000199   \n",
       "ENST00000501122.3                                0.000173   \n",
       "ENST00000521028.4                                0.000204   \n",
       "ENST00000534336.4                                0.000151   \n",
       "ENST00000597346.1                                0.000166   \n",
       "ENST00000601203.1                                0.000149   \n",
       "ENST00000648200.2                                0.000152   \n",
       "ENST00000707047.1                                0.000138   \n",
       "ENST00000710492.1                                0.000175   \n",
       "\n",
       "                   HNRNPC_Percentile_(0.00-0.05)_Skew  \\\n",
       "ENST00000429829.6                            0.071730   \n",
       "ENST00000431460.2                            0.243675   \n",
       "ENST00000501122.3                            0.126523   \n",
       "ENST00000521028.4                            0.225078   \n",
       "ENST00000534336.4                            0.627532   \n",
       "ENST00000597346.1                            0.247441   \n",
       "ENST00000601203.1                            0.471997   \n",
       "ENST00000648200.2                            0.518953   \n",
       "ENST00000707047.1                            0.908527   \n",
       "ENST00000710492.1                            0.974486   \n",
       "\n",
       "                   HNRNPC_Percentile_(0.00-0.05)_Kurtosis  \\\n",
       "ENST00000429829.6                               -0.973721   \n",
       "ENST00000431460.2                               -1.180162   \n",
       "ENST00000501122.3                               -1.085207   \n",
       "ENST00000521028.4                               -1.154446   \n",
       "ENST00000534336.4                               -0.660524   \n",
       "ENST00000597346.1                               -1.045428   \n",
       "ENST00000601203.1                               -0.689185   \n",
       "ENST00000648200.2                               -0.752601   \n",
       "ENST00000707047.1                               -0.179075   \n",
       "ENST00000710492.1                               -0.256716   \n",
       "\n",
       "                   HNRNPC_Percentile_(0.05-0.10)_Proportion  \\\n",
       "ENST00000429829.6                                  0.140992   \n",
       "ENST00000431460.2                                  0.078947   \n",
       "ENST00000501122.3                                  0.108761   \n",
       "ENST00000521028.4                                  0.147692   \n",
       "ENST00000534336.4                                  0.116683   \n",
       "ENST00000597346.1                                  0.177569   \n",
       "ENST00000601203.1                                  0.130841   \n",
       "ENST00000648200.2                                  0.116840   \n",
       "ENST00000707047.1                                  0.152866   \n",
       "ENST00000710492.1                                  0.098361   \n",
       "\n",
       "                   HNRNPC_Percentile_(0.05-0.10)_Max_Min  \\\n",
       "ENST00000429829.6                               0.049580   \n",
       "ENST00000431460.2                               0.032469   \n",
       "ENST00000501122.3                               0.049237   \n",
       "ENST00000521028.4                               0.047392   \n",
       "ENST00000534336.4                               0.049682   \n",
       "ENST00000597346.1                               0.049975   \n",
       "ENST00000601203.1                               0.046713   \n",
       "ENST00000648200.2                               0.049455   \n",
       "ENST00000707047.1                               0.049270   \n",
       "ENST00000710492.1                               0.045827   \n",
       "\n",
       "                   HNRNPC_Percentile_(0.05-0.10)_Mean  \\\n",
       "ENST00000429829.6                            0.022864   \n",
       "ENST00000431460.2                            0.017052   \n",
       "ENST00000501122.3                            0.023245   \n",
       "ENST00000521028.4                            0.017712   \n",
       "ENST00000534336.4                            0.023546   \n",
       "ENST00000597346.1                            0.021062   \n",
       "ENST00000601203.1                            0.024500   \n",
       "ENST00000648200.2                            0.020075   \n",
       "ENST00000707047.1                            0.021850   \n",
       "ENST00000710492.1                            0.024689   \n",
       "\n",
       "                   HNRNPC_Percentile_(0.05-0.10)_Variance  ...  \\\n",
       "ENST00000429829.6                                0.000193  ...   \n",
       "ENST00000431460.2                                0.000344  ...   \n",
       "ENST00000501122.3                                0.000212  ...   \n",
       "ENST00000521028.4                                0.000178  ...   \n",
       "ENST00000534336.4                                0.000223  ...   \n",
       "ENST00000597346.1                                0.000194  ...   \n",
       "ENST00000601203.1                                0.000230  ...   \n",
       "ENST00000648200.2                                0.000202  ...   \n",
       "ENST00000707047.1                                0.000209  ...   \n",
       "ENST00000710492.1                                0.000220  ...   \n",
       "\n",
       "                   MATR3_x_MATR3_Autocorrelation(3)  \\\n",
       "ENST00000429829.6                          0.297649   \n",
       "ENST00000431460.2                          0.237364   \n",
       "ENST00000501122.3                          0.406652   \n",
       "ENST00000521028.4                          0.292615   \n",
       "ENST00000534336.4                          0.263634   \n",
       "ENST00000597346.1                          0.361456   \n",
       "ENST00000601203.1                          0.419770   \n",
       "ENST00000648200.2                          0.288796   \n",
       "ENST00000707047.1                          0.368881   \n",
       "ENST00000710492.1                          0.214327   \n",
       "\n",
       "                   MATR3_x_PTBP1_Autocorrelation(3)  \\\n",
       "ENST00000429829.6                          0.193109   \n",
       "ENST00000431460.2                         -0.115422   \n",
       "ENST00000501122.3                          0.166878   \n",
       "ENST00000521028.4                          0.119764   \n",
       "ENST00000534336.4                          0.122931   \n",
       "ENST00000597346.1                          0.023045   \n",
       "ENST00000601203.1                          0.268306   \n",
       "ENST00000648200.2                          0.249247   \n",
       "ENST00000707047.1                          0.251401   \n",
       "ENST00000710492.1                          0.115132   \n",
       "\n",
       "                   MATR3_x_SRSF1_Autocorrelation(3)  \\\n",
       "ENST00000429829.6                         -0.031937   \n",
       "ENST00000431460.2                         -0.049577   \n",
       "ENST00000501122.3                         -0.055979   \n",
       "ENST00000521028.4                         -0.101466   \n",
       "ENST00000534336.4                          0.054018   \n",
       "ENST00000597346.1                         -0.008480   \n",
       "ENST00000601203.1                          0.009644   \n",
       "ENST00000648200.2                         -0.054073   \n",
       "ENST00000707047.1                          0.131199   \n",
       "ENST00000710492.1                         -0.299396   \n",
       "\n",
       "                   MATR3_x_TIA1_Autocorrelation(3)  \\\n",
       "ENST00000429829.6                         0.096208   \n",
       "ENST00000431460.2                        -0.143359   \n",
       "ENST00000501122.3                         0.097474   \n",
       "ENST00000521028.4                         0.034540   \n",
       "ENST00000534336.4                         0.142361   \n",
       "ENST00000597346.1                        -0.087525   \n",
       "ENST00000601203.1                         0.106231   \n",
       "ENST00000648200.2                         0.092383   \n",
       "ENST00000707047.1                         0.108577   \n",
       "ENST00000710492.1                         0.013108   \n",
       "\n",
       "                   PTBP1_x_PTBP1_Autocorrelation(3)  \\\n",
       "ENST00000429829.6                          0.278683   \n",
       "ENST00000431460.2                         -0.137778   \n",
       "ENST00000501122.3                          0.269207   \n",
       "ENST00000521028.4                          0.058003   \n",
       "ENST00000534336.4                          0.247048   \n",
       "ENST00000597346.1                          0.306713   \n",
       "ENST00000601203.1                          0.422955   \n",
       "ENST00000648200.2                          0.423786   \n",
       "ENST00000707047.1                          0.235472   \n",
       "ENST00000710492.1                          0.388976   \n",
       "\n",
       "                   PTBP1_x_SRSF1_Autocorrelation(3)  \\\n",
       "ENST00000429829.6                         -0.015821   \n",
       "ENST00000431460.2                         -0.059885   \n",
       "ENST00000501122.3                          0.091790   \n",
       "ENST00000521028.4                         -0.165279   \n",
       "ENST00000534336.4                          0.130133   \n",
       "ENST00000597346.1                          0.162439   \n",
       "ENST00000601203.1                          0.105995   \n",
       "ENST00000648200.2                          0.093194   \n",
       "ENST00000707047.1                          0.062285   \n",
       "ENST00000710492.1                          0.047337   \n",
       "\n",
       "                   PTBP1_x_TIA1_Autocorrelation(3)  \\\n",
       "ENST00000429829.6                         0.114057   \n",
       "ENST00000431460.2                        -0.117260   \n",
       "ENST00000501122.3                         0.088177   \n",
       "ENST00000521028.4                        -0.054070   \n",
       "ENST00000534336.4                         0.122510   \n",
       "ENST00000597346.1                         0.241138   \n",
       "ENST00000601203.1                         0.219046   \n",
       "ENST00000648200.2                         0.169959   \n",
       "ENST00000707047.1                        -0.126981   \n",
       "ENST00000710492.1                         0.260835   \n",
       "\n",
       "                   SRSF1_x_SRSF1_Autocorrelation(3)  \\\n",
       "ENST00000429829.6                          0.162188   \n",
       "ENST00000431460.2                         -0.084405   \n",
       "ENST00000501122.3                          0.263036   \n",
       "ENST00000521028.4                          0.128520   \n",
       "ENST00000534336.4                          0.269469   \n",
       "ENST00000597346.1                          0.368780   \n",
       "ENST00000601203.1                          0.323967   \n",
       "ENST00000648200.2                          0.266762   \n",
       "ENST00000707047.1                          0.340800   \n",
       "ENST00000710492.1                          0.139120   \n",
       "\n",
       "                   SRSF1_x_TIA1_Autocorrelation(3)  \\\n",
       "ENST00000429829.6                         0.013059   \n",
       "ENST00000431460.2                        -0.121961   \n",
       "ENST00000501122.3                         0.034969   \n",
       "ENST00000521028.4                        -0.071790   \n",
       "ENST00000534336.4                         0.159725   \n",
       "ENST00000597346.1                         0.146927   \n",
       "ENST00000601203.1                         0.074237   \n",
       "ENST00000648200.2                         0.096028   \n",
       "ENST00000707047.1                         0.027656   \n",
       "ENST00000710492.1                         0.035375   \n",
       "\n",
       "                   TIA1_x_TIA1_Autocorrelation(3)  \n",
       "ENST00000429829.6                        0.123167  \n",
       "ENST00000431460.2                        0.037662  \n",
       "ENST00000501122.3                        0.086222  \n",
       "ENST00000521028.4                        0.016546  \n",
       "ENST00000534336.4                        0.215392  \n",
       "ENST00000597346.1                        0.319551  \n",
       "ENST00000601203.1                        0.128965  \n",
       "ENST00000648200.2                        0.234341  \n",
       "ENST00000707047.1                        0.277215  \n",
       "ENST00000710492.1                        0.352879  \n",
       "\n",
       "[10 rows x 1085 columns]"
      ]
     },
     "execution_count": 9,
     "metadata": {},
     "output_type": "execute_result"
    }
   ],
   "source": [
    "# Directory containing the files\n",
    "directory_path = r\"C:\\Users\\simeo\\OneDrive\\Documents\\UNC\\Spring 2025\\STOR 765\\Inc_RNA_Protein_Predictions_Sample_Data\"\n",
    "\n",
    "# List to store the combined flattened dataframes\n",
    "combined_flattened_dfs = []\n",
    "\n",
    "# Loop through each file in the directory\n",
    "for filename in os.listdir(directory_path):\n",
    "    if filename.endswith(\".tsv\"):\n",
    "        file_path = os.path.join(directory_path, filename)\n",
    "        \n",
    "        # Read the file\n",
    "        df = pd.read_csv(file_path, sep='\\t')\n",
    "        \n",
    "        # Perform the operations as in the previous cells\n",
    "        # Summary Statistic Feature Extraction\n",
    "        proteins = ['HNRNPC', 'HNRNPK', 'HNRNPM', 'MATR3', 'PTBP1', 'SRSF1', 'TIA1']\n",
    "        proportions, max_min, means, variances, skews, kurtoses = {}, {}, {}, {}, {}, {}\n",
    "        N = 20\n",
    "        for protein in proteins:\n",
    "            df[f'{protein}_percentile'] = pd.cut(df[protein], bins=[i/N for i in range(N+1)], labels=False, include_lowest=True)\n",
    "            for i in range(N):\n",
    "                percentile_data = df[df[f'{protein}_percentile'] == i][protein] - (i / N)\n",
    "                proportions[f'{protein}_percentile{i}'] = percentile_data.shape[0] / df.shape[0]\n",
    "                max_min[f'{protein}_percentile{i}_max_min'] = percentile_data.max() - percentile_data.min()\n",
    "                means[f'{protein}_percentile{i}_mean'] = percentile_data.mean()\n",
    "                variances[f'{protein}_percentile{i}_variance'] = percentile_data.var()\n",
    "                skews[f'{protein}_percentile{i}_skew'] = skew(percentile_data)\n",
    "                kurtoses[f'{protein}_percentile{i}_kurtosis'] = kurtosis(percentile_data)\n",
    "        \n",
    "        # Summary Statistics Dataframe\n",
    "        data = {'Protein': proteins}\n",
    "        for i in range(N):\n",
    "            lower_bound = i / N\n",
    "            upper_bound = (i + 1) / N\n",
    "            data[f'Percentile_({lower_bound:.2f}-{upper_bound:.2f})_Proportion'] = [proportions[f'{protein}_percentile{i}'] for protein in proteins]\n",
    "            data[f'Percentile_({lower_bound:.2f}-{upper_bound:.2f})_Max_Min'] = [max_min[f'{protein}_percentile{i}_max_min'] for protein in proteins]\n",
    "            data[f'Percentile_({lower_bound:.2f}-{upper_bound:.2f})_Mean'] = [means[f'{protein}_percentile{i}_mean'] for protein in proteins]\n",
    "            data[f'Percentile_({lower_bound:.2f}-{upper_bound:.2f})_Variance'] = [variances[f'{protein}_percentile{i}_variance'] for protein in proteins]\n",
    "            data[f'Percentile_({lower_bound:.2f}-{upper_bound:.2f})_Skew'] = [skews[f'{protein}_percentile{i}_skew'] for protein in proteins]\n",
    "            data[f'Percentile_({lower_bound:.2f}-{upper_bound:.2f})_Kurtosis'] = [kurtoses[f'{protein}_percentile{i}_kurtosis'] for protein in proteins]\n",
    "        result_df = pd.DataFrame(data).fillna(0)\n",
    "        \n",
    "        # Flatten the dataframe\n",
    "        flattened_data = {}\n",
    "        for protein in result_df['Protein']:\n",
    "            protein_data = result_df[result_df['Protein'] == protein].drop(columns=['Protein']).to_dict(orient='records')[0]\n",
    "            for column, value in protein_data.items():\n",
    "                flattened_data[f'{protein}_{column}'] = value\n",
    "        flattened_summary_statistics_df = pd.DataFrame([flattened_data])\n",
    "        \n",
    "        # Select top K waves\n",
    "        K = 10\n",
    "        protein_signals = {protein: df[protein].values for protein in proteins}\n",
    "        fft_features = {}\n",
    "        for protein, signal in protein_signals.items():\n",
    "            fft_values = np.fft.fft(signal)\n",
    "            fft_freq = np.fft.fftfreq(len(signal), d=1/1000)\n",
    "            fft_magnitude = np.abs(fft_values)\n",
    "            top_k_indices = np.argsort(fft_magnitude)[-K:]\n",
    "            fft_features[protein] = {\n",
    "                'frequencies': fft_freq[top_k_indices],\n",
    "                'magnitudes': fft_magnitude[top_k_indices]\n",
    "            }\n",
    "        top_k_df = pd.DataFrame()\n",
    "        for protein, features in fft_features.items():\n",
    "            for i in range(K):\n",
    "                top_k_df.loc[protein, f'Frequency_{i+1}'] = features['frequencies'][i]\n",
    "                top_k_df.loc[protein, f'Magnitude_{i+1}'] = features['magnitudes'][i]\n",
    "        \n",
    "        # Flatten the dataframe\n",
    "        flattened_data = {}\n",
    "        for protein in top_k_df.index:\n",
    "            protein_data = top_k_df.loc[protein].to_dict()\n",
    "            for column, value in protein_data.items():\n",
    "                flattened_data[f'{protein}_{column}'] = value\n",
    "        flattened_fourier_transform_df = pd.DataFrame([flattened_data])\n",
    "        \n",
    "        # Auto-correlation Matrices per Lag\n",
    "        lags = [0, 1, 2, 3]\n",
    "        autocorrelation_features_list = []\n",
    "        column_names = [f'{p1}_x_{p2}' for p1 in proteins for p2 in proteins if p1 <= p2]\n",
    "        for L in lags:\n",
    "            autocorrelation_matrix = pd.DataFrame(index=proteins, columns=proteins)\n",
    "            for protein1 in proteins:\n",
    "                for protein2 in proteins:\n",
    "                    autocorrelation_matrix.loc[protein1, protein2] = df[protein1].corr(df[protein2].shift(L))\n",
    "            autocorrelation_features_list.append(autocorrelation_matrix.where(np.triu(np.ones(autocorrelation_matrix.shape), k=0).astype(bool)).stack().values)\n",
    "        autocorrelation_df = pd.DataFrame(autocorrelation_features_list, columns=column_names)\n",
    "        autocorrelation_df.index = [f'Autocorrelation({L})' for L in lags]\n",
    "        \n",
    "        # Flatten the dataframe\n",
    "        flattened_data = {}\n",
    "        for lag in autocorrelation_df.index:\n",
    "            lag_data = autocorrelation_df.loc[lag].to_dict()\n",
    "            for column, value in lag_data.items():\n",
    "                if lag != 'Autocorrelation(0)' or column.split('_x_')[0] != column.split('_x_')[1]:\n",
    "                    flattened_data[f'{column}_{lag}'] = value\n",
    "        flattened_autocorrelation_df = pd.DataFrame([flattened_data])\n",
    "        \n",
    "        # Combine all flattened dataframes into one\n",
    "        combined_flattened_df = pd.concat([flattened_summary_statistics_df, flattened_fourier_transform_df, flattened_autocorrelation_df], axis=1)\n",
    "        \n",
    "        # Append the combined flattened dataframe to the list\n",
    "        combined_flattened_dfs.append(combined_flattened_df)\n",
    "\n",
    "# Create a new dataframe with all the combined flattened dataframes as rows\n",
    "final_combined_df = pd.concat(combined_flattened_dfs, ignore_index=True)\n",
    "# Set the row names to be the lncRNA names\n",
    "final_combined_df.index = [filename.replace(\"_predictions.tsv\", \"\") for filename in os.listdir(directory_path) if filename.endswith(\".tsv\")]\n",
    "\n",
    "# Final combined dataframe\n",
    "warnings.filterwarnings(\"ignore\")\n",
    "final_combined_df"
   ]
  },
  {
   "cell_type": "code",
   "execution_count": 10,
   "metadata": {},
   "outputs": [
    {
     "data": {
      "image/png": "[encoded data removed]",
      "text/plain": [
       "<Figure size 1000x600 with 1 Axes>"
      ]
     },
     "metadata": {},
     "output_type": "display_data"
    }
   ],
   "source": [
    "from sklearn.preprocessing import StandardScaler\n",
    "from sklearn.decomposition import PCA\n",
    "\n",
    "# Standardize the data\n",
    "scaler = StandardScaler()\n",
    "standardized_data = scaler.fit_transform(final_combined_df)\n",
    "\n",
    "# Perform PCA\n",
    "pca = PCA()\n",
    "pca.fit(standardized_data)\n",
    "\n",
    "# Plot the scree plot\n",
    "plt.figure(figsize=(10, 6))\n",
    "plt.bar(range(1, len(pca.explained_variance_ratio_) + 1), pca.explained_variance_ratio_)\n",
    "plt.title('Scree Plot')\n",
    "plt.xlabel('Principal Component')\n",
    "plt.ylabel('Variance Explained')\n",
    "plt.show()"
   ]
  },
  {
   "cell_type": "code",
   "execution_count": 11,
   "metadata": {},
   "outputs": [
    {
     "data": {
      "text/html": [
       "<div>\n",
       "<style scoped>\n",
       "    .dataframe tbody tr th:only-of-type {\n",
       "        vertical-align: middle;\n",
       "    }\n",
       "\n",
       "    .dataframe tbody tr th {\n",
       "        vertical-align: top;\n",
       "    }\n",
       "\n",
       "    .dataframe thead th {\n",
       "        text-align: right;\n",
       "    }\n",
       "</style>\n",
       "<table border=\"1\" class=\"dataframe\">\n",
       "  <thead>\n",
       "    <tr style=\"text-align: right;\">\n",
       "      <th></th>\n",
       "      <th>PC1</th>\n",
       "      <th>PC2</th>\n",
       "      <th>PC3</th>\n",
       "      <th>PC4</th>\n",
       "      <th>PC5</th>\n",
       "      <th>PC6</th>\n",
       "      <th>PC7</th>\n",
       "      <th>PC8</th>\n",
       "      <th>PC9</th>\n",
       "      <th>PC10</th>\n",
       "    </tr>\n",
       "  </thead>\n",
       "  <tbody>\n",
       "    <tr>\n",
       "      <th>ENST00000429829.6</th>\n",
       "      <td>8.651269</td>\n",
       "      <td>-6.055905</td>\n",
       "      <td>5.327615</td>\n",
       "      <td>-0.402350</td>\n",
       "      <td>2.083018</td>\n",
       "      <td>5.906772</td>\n",
       "      <td>-8.913825</td>\n",
       "      <td>-1.710410</td>\n",
       "      <td>10.267976</td>\n",
       "      <td>1.763768e-15</td>\n",
       "    </tr>\n",
       "    <tr>\n",
       "      <th>ENST00000431460.2</th>\n",
       "      <td>-58.985718</td>\n",
       "      <td>-9.143913</td>\n",
       "      <td>2.565433</td>\n",
       "      <td>1.061756</td>\n",
       "      <td>-0.458715</td>\n",
       "      <td>-0.909170</td>\n",
       "      <td>-0.009537</td>\n",
       "      <td>0.469242</td>\n",
       "      <td>-0.055911</td>\n",
       "      <td>-4.868628e-15</td>\n",
       "    </tr>\n",
       "    <tr>\n",
       "      <th>ENST00000501122.3</th>\n",
       "      <td>9.853988</td>\n",
       "      <td>-7.038188</td>\n",
       "      <td>8.247010</td>\n",
       "      <td>2.305356</td>\n",
       "      <td>2.360708</td>\n",
       "      <td>5.579131</td>\n",
       "      <td>-8.096962</td>\n",
       "      <td>-2.472367</td>\n",
       "      <td>-10.218558</td>\n",
       "      <td>-4.655509e-15</td>\n",
       "    </tr>\n",
       "    <tr>\n",
       "      <th>ENST00000521028.4</th>\n",
       "      <td>4.531529</td>\n",
       "      <td>1.429336</td>\n",
       "      <td>-2.980999</td>\n",
       "      <td>-26.738605</td>\n",
       "      <td>13.594184</td>\n",
       "      <td>-5.566603</td>\n",
       "      <td>1.499571</td>\n",
       "      <td>0.016923</td>\n",
       "      <td>-0.602489</td>\n",
       "      <td>2.539064e-15</td>\n",
       "    </tr>\n",
       "    <tr>\n",
       "      <th>ENST00000534336.4</th>\n",
       "      <td>7.452729</td>\n",
       "      <td>-5.775547</td>\n",
       "      <td>3.720042</td>\n",
       "      <td>2.336036</td>\n",
       "      <td>1.232615</td>\n",
       "      <td>11.528932</td>\n",
       "      <td>11.568395</td>\n",
       "      <td>-6.688822</td>\n",
       "      <td>0.648176</td>\n",
       "      <td>4.286415e-15</td>\n",
       "    </tr>\n",
       "    <tr>\n",
       "      <th>ENST00000597346.1</th>\n",
       "      <td>14.284749</td>\n",
       "      <td>-9.979610</td>\n",
       "      <td>11.174132</td>\n",
       "      <td>9.877386</td>\n",
       "      <td>-2.561165</td>\n",
       "      <td>-17.823726</td>\n",
       "      <td>2.261450</td>\n",
       "      <td>-2.849760</td>\n",
       "      <td>0.827006</td>\n",
       "      <td>-1.978493e-15</td>\n",
       "    </tr>\n",
       "    <tr>\n",
       "      <th>ENST00000601203.1</th>\n",
       "      <td>5.263782</td>\n",
       "      <td>0.978796</td>\n",
       "      <td>-12.462105</td>\n",
       "      <td>-9.843159</td>\n",
       "      <td>-25.854325</td>\n",
       "      <td>-0.164410</td>\n",
       "      <td>-0.631329</td>\n",
       "      <td>-0.372419</td>\n",
       "      <td>-0.580335</td>\n",
       "      <td>-1.301707e-14</td>\n",
       "    </tr>\n",
       "    <tr>\n",
       "      <th>ENST00000648200.2</th>\n",
       "      <td>11.243800</td>\n",
       "      <td>-6.251187</td>\n",
       "      <td>3.717631</td>\n",
       "      <td>3.916599</td>\n",
       "      <td>0.627439</td>\n",
       "      <td>3.415599</td>\n",
       "      <td>3.294028</td>\n",
       "      <td>14.396920</td>\n",
       "      <td>-0.100165</td>\n",
       "      <td>3.350188e-15</td>\n",
       "    </tr>\n",
       "    <tr>\n",
       "      <th>ENST00000707047.1</th>\n",
       "      <td>2.520089</td>\n",
       "      <td>3.835054</td>\n",
       "      <td>-29.860527</td>\n",
       "      <td>13.364924</td>\n",
       "      <td>9.504013</td>\n",
       "      <td>-1.745465</td>\n",
       "      <td>-1.004537</td>\n",
       "      <td>-0.872012</td>\n",
       "      <td>-0.281189</td>\n",
       "      <td>3.359120e-14</td>\n",
       "    </tr>\n",
       "    <tr>\n",
       "      <th>ENST00000710492.1</th>\n",
       "      <td>-4.816217</td>\n",
       "      <td>38.001164</td>\n",
       "      <td>10.551768</td>\n",
       "      <td>4.122057</td>\n",
       "      <td>-0.527770</td>\n",
       "      <td>-0.221060</td>\n",
       "      <td>0.032745</td>\n",
       "      <td>0.082706</td>\n",
       "      <td>0.095489</td>\n",
       "      <td>-1.800714e-14</td>\n",
       "    </tr>\n",
       "  </tbody>\n",
       "</table>\n",
       "</div>"
      ],
      "text/plain": [
       "                         PC1        PC2        PC3        PC4        PC5  \\\n",
       "ENST00000429829.6   8.651269  -6.055905   5.327615  -0.402350   2.083018   \n",
       "ENST00000431460.2 -58.985718  -9.143913   2.565433   1.061756  -0.458715   \n",
       "ENST00000501122.3   9.853988  -7.038188   8.247010   2.305356   2.360708   \n",
       "ENST00000521028.4   4.531529   1.429336  -2.980999 -26.738605  13.594184   \n",
       "ENST00000534336.4   7.452729  -5.775547   3.720042   2.336036   1.232615   \n",
       "ENST00000597346.1  14.284749  -9.979610  11.174132   9.877386  -2.561165   \n",
       "ENST00000601203.1   5.263782   0.978796 -12.462105  -9.843159 -25.854325   \n",
       "ENST00000648200.2  11.243800  -6.251187   3.717631   3.916599   0.627439   \n",
       "ENST00000707047.1   2.520089   3.835054 -29.860527  13.364924   9.504013   \n",
       "ENST00000710492.1  -4.816217  38.001164  10.551768   4.122057  -0.527770   \n",
       "\n",
       "                         PC6        PC7        PC8        PC9          PC10  \n",
       "ENST00000429829.6   5.906772  -8.913825  -1.710410  10.267976  1.763768e-15  \n",
       "ENST00000431460.2  -0.909170  -0.009537   0.469242  -0.055911 -4.868628e-15  \n",
       "ENST00000501122.3   5.579131  -8.096962  -2.472367 -10.218558 -4.655509e-15  \n",
       "ENST00000521028.4  -5.566603   1.499571   0.016923  -0.602489  2.539064e-15  \n",
       "ENST00000534336.4  11.528932  11.568395  -6.688822   0.648176  4.286415e-15  \n",
       "ENST00000597346.1 -17.823726   2.261450  -2.849760   0.827006 -1.978493e-15  \n",
       "ENST00000601203.1  -0.164410  -0.631329  -0.372419  -0.580335 -1.301707e-14  \n",
       "ENST00000648200.2   3.415599   3.294028  14.396920  -0.100165  3.350188e-15  \n",
       "ENST00000707047.1  -1.745465  -1.004537  -0.872012  -0.281189  3.359120e-14  \n",
       "ENST00000710492.1  -0.221060   0.032745   0.082706   0.095489 -1.800714e-14  "
      ]
     },
     "execution_count": 11,
     "metadata": {},
     "output_type": "execute_result"
    }
   ],
   "source": [
    "# Transform the data using the PCA model\n",
    "pca_transformed_data = pca.transform(standardized_data)\n",
    "\n",
    "# Select the first 10 principal components\n",
    "first_10_pcs = pca_transformed_data[:, :10]\n",
    "\n",
    "# Create a DataFrame with the first 10 principal components and keep the row names from flattened_df\n",
    "first_10_pcs_df = pd.DataFrame(first_10_pcs, columns=[f'PC{i+1}' for i in range(10)], index=final_combined_df.index)\n",
    "first_10_pcs_df"
   ]
  },
  {
   "cell_type": "code",
   "execution_count": 33,
   "metadata": {},
   "outputs": [
    {
     "data": {
      "application/vnd.plotly.v1+json": {
       "config": {
        "plotlyServerURL": "https://plot.ly"
       },
       "data": [
        {
         "hovertemplate": "index=ENST00000429829.6<br>TSNE1=%{x}<br>TSNE2=%{y}<br>TSNE3=%{z}<extra></extra>",
         "legendgroup": "ENST00000429829.6",
         "marker": {
          "color": "#636efa",
          "symbol": "circle"
         },
         "mode": "markers",
         "name": "ENST00000429829.6",
         "scene": "scene",
         "showlegend": true,
         "type": "scatter3d",
         "x": {
          "bdata": "IRa9QQ==",
          "dtype": "f4"
         },
         "y": {
          "bdata": "QNzUQQ==",
          "dtype": "f4"
         },
         "z": {
          "bdata": "LUDiQg==",
          "dtype": "f4"
         }
        },
        {
         "hovertemplate": "index=ENST00000431460.2<br>TSNE1=%{x}<br>TSNE2=%{y}<br>TSNE3=%{z}<extra></extra>",
         "legendgroup": "ENST00000431460.2",
         "marker": {
          "color": "#EF553B",
          "symbol": "circle"
         },
         "mode": "markers",
         "name": "ENST00000431460.2",
         "scene": "scene",
         "showlegend": true,
         "type": "scatter3d",
         "x": {
          "bdata": "P1veQQ==",
          "dtype": "f4"
         },
         "y": {
          "bdata": "IKDAwg==",
          "dtype": "f4"
         },
         "z": {
          "bdata": "n3vYwg==",
          "dtype": "f4"
         }
        },
        {
         "hovertemplate": "index=ENST00000501122.3<br>TSNE1=%{x}<br>TSNE2=%{y}<br>TSNE3=%{z}<extra></extra>",
         "legendgroup": "ENST00000501122.3",
         "marker": {
          "color": "#00cc96",
          "symbol": "circle"
         },
         "mode": "markers",
         "name": "ENST00000501122.3",
         "scene": "scene",
         "showlegend": true,
         "type": "scatter3d",
         "x": {
          "bdata": "7Dv4wg==",
          "dtype": "f4"
         },
         "y": {
          "bdata": "TxPCQQ==",
          "dtype": "f4"
         },
         "z": {
          "bdata": "kvV/wQ==",
          "dtype": "f4"
         }
        },
        {
         "hovertemplate": "index=ENST00000521028.4<br>TSNE1=%{x}<br>TSNE2=%{y}<br>TSNE3=%{z}<extra></extra>",
         "legendgroup": "ENST00000521028.4",
         "marker": {
          "color": "#ab63fa",
          "symbol": "circle"
         },
         "mode": "markers",
         "name": "ENST00000521028.4",
         "scene": "scene",
         "showlegend": true,
         "type": "scatter3d",
         "x": {
          "bdata": "n5cDww==",
          "dtype": "f4"
         },
         "y": {
          "bdata": "waomQw==",
          "dtype": "f4"
         },
         "z": {
          "bdata": "M4URww==",
          "dtype": "f4"
         }
        },
        {
         "hovertemplate": "index=ENST00000534336.4<br>TSNE1=%{x}<br>TSNE2=%{y}<br>TSNE3=%{z}<extra></extra>",
         "legendgroup": "ENST00000534336.4",
         "marker": {
          "color": "#FFA15A",
          "symbol": "circle"
         },
         "mode": "markers",
         "name": "ENST00000534336.4",
         "scene": "scene",
         "showlegend": true,
         "type": "scatter3d",
         "x": {
          "bdata": "kW0dQw==",
          "dtype": "f4"
         },
         "y": {
          "bdata": "3/odww==",
          "dtype": "f4"
         },
         "z": {
          "bdata": "ZFJIQg==",
          "dtype": "f4"
         }
        },
        {
         "hovertemplate": "index=ENST00000597346.1<br>TSNE1=%{x}<br>TSNE2=%{y}<br>TSNE3=%{z}<extra></extra>",
         "legendgroup": "ENST00000597346.1",
         "marker": {
          "color": "#19d3f3",
          "symbol": "circle"
         },
         "mode": "markers",
         "name": "ENST00000597346.1",
         "scene": "scene",
         "showlegend": true,
         "type": "scatter3d",
         "x": {
          "bdata": "xQCJwQ==",
          "dtype": "f4"
         },
         "y": {
          "bdata": "yvkYww==",
          "dtype": "f4"
         },
         "z": {
          "bdata": "/SJiQg==",
          "dtype": "f4"
         }
        },
        {
         "hovertemplate": "index=ENST00000601203.1<br>TSNE1=%{x}<br>TSNE2=%{y}<br>TSNE3=%{z}<extra></extra>",
         "legendgroup": "ENST00000601203.1",
         "marker": {
          "color": "#FF6692",
          "symbol": "circle"
         },
         "mode": "markers",
         "name": "ENST00000601203.1",
         "scene": "scene",
         "showlegend": true,
         "type": "scatter3d",
         "x": {
          "bdata": "yXEhww==",
          "dtype": "f4"
         },
         "y": {
          "bdata": "4Nuiwg==",
          "dtype": "f4"
         },
         "z": {
          "bdata": "3ZzvQg==",
          "dtype": "f4"
         }
        },
        {
         "hovertemplate": "index=ENST00000648200.2<br>TSNE1=%{x}<br>TSNE2=%{y}<br>TSNE3=%{z}<extra></extra>",
         "legendgroup": "ENST00000648200.2",
         "marker": {
          "color": "#B6E880",
          "symbol": "circle"
         },
         "mode": "markers",
         "name": "ENST00000648200.2",
         "scene": "scene",
         "showlegend": true,
         "type": "scatter3d",
         "x": {
          "bdata": "CPXHQg==",
          "dtype": "f4"
         },
         "y": {
          "bdata": "V+4bQw==",
          "dtype": "f4"
         },
         "z": {
          "bdata": "7jwZQQ==",
          "dtype": "f4"
         }
        },
        {
         "hovertemplate": "index=ENST00000707047.1<br>TSNE1=%{x}<br>TSNE2=%{y}<br>TSNE3=%{z}<extra></extra>",
         "legendgroup": "ENST00000707047.1",
         "marker": {
          "color": "#FF97FF",
          "symbol": "circle"
         },
         "mode": "markers",
         "name": "ENST00000707047.1",
         "scene": "scene",
         "showlegend": true,
         "type": "scatter3d",
         "x": {
          "bdata": "WGE6Qw==",
          "dtype": "f4"
         },
         "y": {
          "bdata": "ublwwA==",
          "dtype": "f4"
         },
         "z": {
          "bdata": "eEY7wg==",
          "dtype": "f4"
         }
        },
        {
         "hovertemplate": "index=ENST00000710492.1<br>TSNE1=%{x}<br>TSNE2=%{y}<br>TSNE3=%{z}<extra></extra>",
         "legendgroup": "ENST00000710492.1",
         "marker": {
          "color": "#FECB52",
          "symbol": "circle"
         },
         "mode": "markers",
         "name": "ENST00000710492.1",
         "scene": "scene",
         "showlegend": true,
         "type": "scatter3d",
         "x": {
          "bdata": "E0xnQQ==",
          "dtype": "f4"
         },
         "y": {
          "bdata": "m4uYQg==",
          "dtype": "f4"
         },
         "z": {
          "bdata": "rkQDww==",
          "dtype": "f4"
         }
        }
       ],
       "layout": {
        "height": 800,
        "legend": {
         "title": {
          "text": "lncRNAs"
         },
         "tracegroupgap": 0
        },
        "scene": {
         "domain": {
          "x": [
           0,
           1
          ],
          "y": [
           0,
           1
          ]
         },
         "xaxis": {
          "title": {
           "text": "TSNE1"
          }
         },
         "yaxis": {
          "title": {
           "text": "TSNE2"
          }
         },
         "zaxis": {
          "title": {
           "text": "TSNE3"
          }
         }
        },
        "template": {
         "data": {
          "bar": [
           {
            "error_x": {
             "color": "#2a3f5f"
            },
            "error_y": {
             "color": "#2a3f5f"
            },
            "marker": {
             "line": {
              "color": "#E5ECF6",
              "width": 0.5
             },
             "pattern": {
              "fillmode": "overlay",
              "size": 10,
              "solidity": 0.2
             }
            },
            "type": "bar"
           }
          ],
          "barpolar": [
           {
            "marker": {
             "line": {
              "color": "#E5ECF6",
              "width": 0.5
             },
             "pattern": {
              "fillmode": "overlay",
              "size": 10,
              "solidity": 0.2
             }
            },
            "type": "barpolar"
           }
          ],
          "carpet": [
           {
            "aaxis": {
             "endlinecolor": "#2a3f5f",
             "gridcolor": "white",
             "linecolor": "white",
             "minorgridcolor": "white",
             "startlinecolor": "#2a3f5f"
            },
            "baxis": {
             "endlinecolor": "#2a3f5f",
             "gridcolor": "white",
             "linecolor": "white",
             "minorgridcolor": "white",
             "startlinecolor": "#2a3f5f"
            },
            "type": "carpet"
           }
          ],
          "choropleth": [
           {
            "colorbar": {
             "outlinewidth": 0,
             "ticks": ""
            },
            "type": "choropleth"
           }
          ],
          "contour": [
           {
            "colorbar": {
             "outlinewidth": 0,
             "ticks": ""
            },
            "colorscale": [
             [
              0,
              "#0d0887"
             ],
             [
              0.1111111111111111,
              "#46039f"
             ],
             [
              0.2222222222222222,
              "#7201a8"
             ],
             [
              0.3333333333333333,
              "#9c179e"
             ],
             [
              0.4444444444444444,
              "#bd3786"
             ],
             [
              0.5555555555555556,
              "#d8576b"
             ],
             [
              0.6666666666666666,
              "#ed7953"
             ],
             [
              0.7777777777777778,
              "#fb9f3a"
             ],
             [
              0.8888888888888888,
              "#fdca26"
             ],
             [
              1,
              "#f0f921"
             ]
            ],
            "type": "contour"
           }
          ],
          "contourcarpet": [
           {
            "colorbar": {
             "outlinewidth": 0,
             "ticks": ""
            },
            "type": "contourcarpet"
           }
          ],
          "heatmap": [
           {
            "colorbar": {
             "outlinewidth": 0,
             "ticks": ""
            },
            "colorscale": [
             [
              0,
              "#0d0887"
             ],
             [
              0.1111111111111111,
              "#46039f"
             ],
             [
              0.2222222222222222,
              "#7201a8"
             ],
             [
              0.3333333333333333,
              "#9c179e"
             ],
             [
              0.4444444444444444,
              "#bd3786"
             ],
             [
              0.5555555555555556,
              "#d8576b"
             ],
             [
              0.6666666666666666,
              "#ed7953"
             ],
             [
              0.7777777777777778,
              "#fb9f3a"
             ],
             [
              0.8888888888888888,
              "#fdca26"
             ],
             [
              1,
              "#f0f921"
             ]
            ],
            "type": "heatmap"
           }
          ],
          "histogram": [
           {
            "marker": {
             "pattern": {
              "fillmode": "overlay",
              "size": 10,
              "solidity": 0.2
             }
            },
            "type": "histogram"
           }
          ],
          "histogram2d": [
           {
            "colorbar": {
             "outlinewidth": 0,
             "ticks": ""
            },
            "colorscale": [
             [
              0,
              "#0d0887"
             ],
             [
              0.1111111111111111,
              "#46039f"
             ],
             [
              0.2222222222222222,
              "#7201a8"
             ],
             [
              0.3333333333333333,
              "#9c179e"
             ],
             [
              0.4444444444444444,
              "#bd3786"
             ],
             [
              0.5555555555555556,
              "#d8576b"
             ],
             [
              0.6666666666666666,
              "#ed7953"
             ],
             [
              0.7777777777777778,
              "#fb9f3a"
             ],
             [
              0.8888888888888888,
              "#fdca26"
             ],
             [
              1,
              "#f0f921"
             ]
            ],
            "type": "histogram2d"
           }
          ],
          "histogram2dcontour": [
           {
            "colorbar": {
             "outlinewidth": 0,
             "ticks": ""
            },
            "colorscale": [
             [
              0,
              "#0d0887"
             ],
             [
              0.1111111111111111,
              "#46039f"
             ],
             [
              0.2222222222222222,
              "#7201a8"
             ],
             [
              0.3333333333333333,
              "#9c179e"
             ],
             [
              0.4444444444444444,
              "#bd3786"
             ],
             [
              0.5555555555555556,
              "#d8576b"
             ],
             [
              0.6666666666666666,
              "#ed7953"
             ],
             [
              0.7777777777777778,
              "#fb9f3a"
             ],
             [
              0.8888888888888888,
              "#fdca26"
             ],
             [
              1,
              "#f0f921"
             ]
            ],
            "type": "histogram2dcontour"
           }
          ],
          "mesh3d": [
           {
            "colorbar": {
             "outlinewidth": 0,
             "ticks": ""
            },
            "type": "mesh3d"
           }
          ],
          "parcoords": [
           {
            "line": {
             "colorbar": {
              "outlinewidth": 0,
              "ticks": ""
             }
            },
            "type": "parcoords"
           }
          ],
          "pie": [
           {
            "automargin": true,
            "type": "pie"
           }
          ],
          "scatter": [
           {
            "fillpattern": {
             "fillmode": "overlay",
             "size": 10,
             "solidity": 0.2
            },
            "type": "scatter"
           }
          ],
          "scatter3d": [
           {
            "line": {
             "colorbar": {
              "outlinewidth": 0,
              "ticks": ""
             }
            },
            "marker": {
             "colorbar": {
              "outlinewidth": 0,
              "ticks": ""
             }
            },
            "type": "scatter3d"
           }
          ],
          "scattercarpet": [
           {
            "marker": {
             "colorbar": {
              "outlinewidth": 0,
              "ticks": ""
             }
            },
            "type": "scattercarpet"
           }
          ],
          "scattergeo": [
           {
            "marker": {
             "colorbar": {
              "outlinewidth": 0,
              "ticks": ""
             }
            },
            "type": "scattergeo"
           }
          ],
          "scattergl": [
           {
            "marker": {
             "colorbar": {
              "outlinewidth": 0,
              "ticks": ""
             }
            },
            "type": "scattergl"
           }
          ],
          "scattermap": [
           {
            "marker": {
             "colorbar": {
              "outlinewidth": 0,
              "ticks": ""
             }
            },
            "type": "scattermap"
           }
          ],
          "scattermapbox": [
           {
            "marker": {
             "colorbar": {
              "outlinewidth": 0,
              "ticks": ""
             }
            },
            "type": "scattermapbox"
           }
          ],
          "scatterpolar": [
           {
            "marker": {
             "colorbar": {
              "outlinewidth": 0,
              "ticks": ""
             }
            },
            "type": "scatterpolar"
           }
          ],
          "scatterpolargl": [
           {
            "marker": {
             "colorbar": {
              "outlinewidth": 0,
              "ticks": ""
             }
            },
            "type": "scatterpolargl"
           }
          ],
          "scatterternary": [
           {
            "marker": {
             "colorbar": {
              "outlinewidth": 0,
              "ticks": ""
             }
            },
            "type": "scatterternary"
           }
          ],
          "surface": [
           {
            "colorbar": {
             "outlinewidth": 0,
             "ticks": ""
            },
            "colorscale": [
             [
              0,
              "#0d0887"
             ],
             [
              0.1111111111111111,
              "#46039f"
             ],
             [
              0.2222222222222222,
              "#7201a8"
             ],
             [
              0.3333333333333333,
              "#9c179e"
             ],
             [
              0.4444444444444444,
              "#bd3786"
             ],
             [
              0.5555555555555556,
              "#d8576b"
             ],
             [
              0.6666666666666666,
              "#ed7953"
             ],
             [
              0.7777777777777778,
              "#fb9f3a"
             ],
             [
              0.8888888888888888,
              "#fdca26"
             ],
             [
              1,
              "#f0f921"
             ]
            ],
            "type": "surface"
           }
          ],
          "table": [
           {
            "cells": {
             "fill": {
              "color": "#EBF0F8"
             },
             "line": {
              "color": "white"
             }
            },
            "header": {
             "fill": {
              "color": "#C8D4E3"
             },
             "line": {
              "color": "white"
             }
            },
            "type": "table"
           }
          ]
         },
         "layout": {
          "annotationdefaults": {
           "arrowcolor": "#2a3f5f",
           "arrowhead": 0,
           "arrowwidth": 1
          },
          "autotypenumbers": "strict",
          "coloraxis": {
           "colorbar": {
            "outlinewidth": 0,
            "ticks": ""
           }
          },
          "colorscale": {
           "diverging": [
            [
             0,
             "#8e0152"
            ],
            [
             0.1,
             "#c51b7d"
            ],
            [
             0.2,
             "#de77ae"
            ],
            [
             0.3,
             "#f1b6da"
            ],
            [
             0.4,
             "#fde0ef"
            ],
            [
             0.5,
             "#f7f7f7"
            ],
            [
             0.6,
             "#e6f5d0"
            ],
            [
             0.7,
             "#b8e186"
            ],
            [
             0.8,
             "#7fbc41"
            ],
            [
             0.9,
             "#4d9221"
            ],
            [
             1,
             "#276419"
            ]
           ],
           "sequential": [
            [
             0,
             "#0d0887"
            ],
            [
             0.1111111111111111,
             "#46039f"
            ],
            [
             0.2222222222222222,
             "#7201a8"
            ],
            [
             0.3333333333333333,
             "#9c179e"
            ],
            [
             0.4444444444444444,
             "#bd3786"
            ],
            [
             0.5555555555555556,
             "#d8576b"
            ],
            [
             0.6666666666666666,
             "#ed7953"
            ],
            [
             0.7777777777777778,
             "#fb9f3a"
            ],
            [
             0.8888888888888888,
             "#fdca26"
            ],
            [
             1,
             "#f0f921"
            ]
           ],
           "sequentialminus": [
            [
             0,
             "#0d0887"
            ],
            [
             0.1111111111111111,
             "#46039f"
            ],
            [
             0.2222222222222222,
             "#7201a8"
            ],
            [
             0.3333333333333333,
             "#9c179e"
            ],
            [
             0.4444444444444444,
             "#bd3786"
            ],
            [
             0.5555555555555556,
             "#d8576b"
            ],
            [
             0.6666666666666666,
             "#ed7953"
            ],
            [
             0.7777777777777778,
             "#fb9f3a"
            ],
            [
             0.8888888888888888,
             "#fdca26"
            ],
            [
             1,
             "#f0f921"
            ]
           ]
          },
          "colorway": [
           "#636efa",
           "#EF553B",
           "#00cc96",
           "#ab63fa",
           "#FFA15A",
           "#19d3f3",
           "#FF6692",
           "#B6E880",
           "#FF97FF",
           "#FECB52"
          ],
          "font": {
           "color": "#2a3f5f"
          },
          "geo": {
           "bgcolor": "white",
           "lakecolor": "white",
           "landcolor": "#E5ECF6",
           "showlakes": true,
           "showland": true,
           "subunitcolor": "white"
          },
          "hoverlabel": {
           "align": "left"
          },
          "hovermode": "closest",
          "mapbox": {
           "style": "light"
          },
          "paper_bgcolor": "white",
          "plot_bgcolor": "#E5ECF6",
          "polar": {
           "angularaxis": {
            "gridcolor": "white",
            "linecolor": "white",
            "ticks": ""
           },
           "bgcolor": "#E5ECF6",
           "radialaxis": {
            "gridcolor": "white",
            "linecolor": "white",
            "ticks": ""
           }
          },
          "scene": {
           "xaxis": {
            "backgroundcolor": "#E5ECF6",
            "gridcolor": "white",
            "gridwidth": 2,
            "linecolor": "white",
            "showbackground": true,
            "ticks": "",
            "zerolinecolor": "white"
           },
           "yaxis": {
            "backgroundcolor": "#E5ECF6",
            "gridcolor": "white",
            "gridwidth": 2,
            "linecolor": "white",
            "showbackground": true,
            "ticks": "",
            "zerolinecolor": "white"
           },
           "zaxis": {
            "backgroundcolor": "#E5ECF6",
            "gridcolor": "white",
            "gridwidth": 2,
            "linecolor": "white",
            "showbackground": true,
            "ticks": "",
            "zerolinecolor": "white"
           }
          },
          "shapedefaults": {
           "line": {
            "color": "#2a3f5f"
           }
          },
          "ternary": {
           "aaxis": {
            "gridcolor": "white",
            "linecolor": "white",
            "ticks": ""
           },
           "baxis": {
            "gridcolor": "white",
            "linecolor": "white",
            "ticks": ""
           },
           "bgcolor": "#E5ECF6",
           "caxis": {
            "gridcolor": "white",
            "linecolor": "white",
            "ticks": ""
           }
          },
          "title": {
           "x": 0.05
          },
          "xaxis": {
           "automargin": true,
           "gridcolor": "white",
           "linecolor": "white",
           "ticks": "",
           "title": {
            "standoff": 15
           },
           "zerolinecolor": "white",
           "zerolinewidth": 2
          },
          "yaxis": {
           "automargin": true,
           "gridcolor": "white",
           "linecolor": "white",
           "ticks": "",
           "title": {
            "standoff": 15
           },
           "zerolinecolor": "white",
           "zerolinewidth": 2
          }
         }
        },
        "title": {
         "text": "t-SNE Clustering Results"
        },
        "width": 1000
       }
      }
     },
     "metadata": {},
     "output_type": "display_data"
    }
   ],
   "source": [
    "from sklearn.manifold import TSNE\n",
    "import plotly.express as px\n",
    "\n",
    "# Perform t-SNE with a lower perplexity\n",
    "tsne = TSNE(n_components=3, random_state=42, perplexity=9)\n",
    "tsne_transformed_data = tsne.fit_transform(standardized_data)\n",
    "\n",
    "# Create a DataFrame with the t-SNE results\n",
    "tsne_df = pd.DataFrame(tsne_transformed_data, columns=['TSNE1', 'TSNE2', 'TSNE3'], index=final_combined_df.index)\n",
    "\n",
    "# Create a 3-D scatter plot with Plotly\n",
    "fig = px.scatter_3d(tsne_df, x='TSNE1', y='TSNE2', z='TSNE3', color=tsne_df.index, title='t-SNE Clustering Results')\n",
    "\n",
    "# Update layout for better visualization\n",
    "fig.update_layout(\n",
    "    scene=dict(\n",
    "        xaxis_title='TSNE1',\n",
    "        yaxis_title='TSNE2',\n",
    "        zaxis_title='TSNE3'\n",
    "    ),\n",
    "    legend_title_text='lncRNAs',\n",
    "    width=1000,  # Set the width of the plot\n",
    "    height=800   # Set the height of the plot\n",
    ")\n",
    "\n",
    "# Show the plot\n",
    "fig.show()"
   ]
  }
 ],
 "metadata": {
  "kernelspec": {
   "display_name": "Python 3",
   "language": "python",
   "name": "python3"
  },
  "language_info": {
   "codemirror_mode": {
    "name": "ipython",
    "version": 3
   },
   "file_extension": ".py",
   "mimetype": "text/x-python",
   "name": "python",
   "nbconvert_exporter": "python",
   "pygments_lexer": "ipython3",
   "version": "3.12.8"
  }
 },
 "nbformat": 4,
 "nbformat_minor": 2
}
